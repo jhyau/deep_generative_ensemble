{
 "cells": [
  {
   "cell_type": "code",
   "execution_count": 1,
   "id": "e70b558a-b7ae-4610-bc1c-cbdc07347208",
   "metadata": {},
   "outputs": [
    {
     "name": "stderr",
     "output_type": "stream",
     "text": [
      "[2023-12-04T11:30:33.938413+0000][29447][CRITICAL] load failed: \n",
      "GReaT is not installed. Please install it with pip install GReaT.\n",
      "Please be aware that GReaT is only available for python >= 3.9.\n",
      "\n",
      "[2023-12-04T11:30:33.939659+0000][29447][CRITICAL] load failed: module 'synthcity.plugins.generic.plugin_great' has no attribute 'plugin'\n",
      "[2023-12-04T11:30:33.940433+0000][29447][CRITICAL] module plugin_great load failed\n",
      "[2023-12-04T11:30:33.947985+0000][29447][CRITICAL] module disabled: /home/JacquelineYau/deep_generative_ensemble/synthcity/src/synthcity/plugins/generic/plugin_goggle.py\n"
     ]
    },
    {
     "data": {
      "text/plain": [
       "['nflow',\n",
       " 'uniform_sampler',\n",
       " 'marginal_distributions',\n",
       " 'rtvae',\n",
       " 'ctgan',\n",
       " 'arf',\n",
       " 'ddpm',\n",
       " 'tvae',\n",
       " 'dummy_sampler',\n",
       " 'bayesian_network']"
      ]
     },
     "execution_count": 1,
     "metadata": {},
     "output_type": "execute_result"
    }
   ],
   "source": [
    "from sklearn.datasets import load_diabetes\n",
    "import pickle\n",
    "import pandas as pd\n",
    "import numpy as np\n",
    "import sklearn\n",
    "import matplotlib.pyplot as plt\n",
    "from sklearn.datasets import load_iris\n",
    "import os\n",
    "import torch\n",
    "\n",
    "\n",
    "from synthcity.metrics.eval_performance import (\n",
    "    PerformanceEvaluatorMLP,\n",
    "    PerformanceEvaluatorXGB,\n",
    ")\n",
    "from synthcity.utils import reproducibility\n",
    "from synthcity.plugins import Plugins\n",
    "import synthcity.logger as log\n",
    "from synthcity.plugins.core.dataloader import GenericDataLoader\n",
    "from DGE_utils import metric_different_datasets, mean_across_pandas, add_std, get_folder_names\n",
    "\n",
    "reproducibility.clear_cache()\n",
    "device = torch.device(\"cuda\" if torch.cuda.is_available() else \"cpu\")\n",
    "\n",
    "\n",
    "assert device.type == 'cuda'\n",
    "Plugins(categories=[\"generic\"]).list()"
   ]
  },
  {
   "cell_type": "code",
   "execution_count": 2,
   "id": "01a0b49f-e521-4c88-bd99-b2165f80b11b",
   "metadata": {},
   "outputs": [
    {
     "name": "stdout",
     "output_type": "stream",
     "text": [
      "cuda available? True\n",
      "torch device: cuda\n"
     ]
    }
   ],
   "source": [
    "from DGE_data import get_real_and_synthetic, load_real_data, get_synthetic_data\n",
    "\n",
    "print(\"cuda available? \" + str(torch.cuda.is_available()))\n",
    "print(\"torch device: \" + str(device))\n",
    "# let's restrict ourselves to classification datasets\n",
    "# datasets = ['moons', 'circles', 'breast_cancer',\n",
    "#            'adult',  'seer', 'covid']\n",
    "datasets = ['moons', 'circles', 'breast_cancer',\n",
    "            'adult', 'covid']\n",
    "# ['moons', 'circles','cal_housing', 'adult', 'diabetes', 'breast_cancer',  'seer', 'cutract' ]\n",
    "model_name = 'ctgan'  # synthetic data model\n",
    "\n",
    "n_models = 5  # number of models in ensemble, for each run orig: 20\n",
    "max_n = 2000  # maximum number of data points to use for training generative model.\n",
    "nsyn = 2000  # number of synthetic data points per synthetic dataset. Defaults to same as generative training size if None\n",
    "\n",
    "num_runs = 1 # Number of runs. Don't choose to large, since total number of synthetic datasets is num_runs*n_models, orig:10\n",
    "\n",
    "# Whether to load and save models and synthetic datasets\n",
    "load = True  # results\n",
    "load_syn = True  # data\n",
    "save = True  # save results and data\n",
    "\n",
    "verbose = True"
   ]
  },
  {
   "cell_type": "code",
   "execution_count": 3,
   "id": "348d4739-f60c-439f-a963-f4269bb8f25d",
   "metadata": {},
   "outputs": [
    {
     "name": "stderr",
     "output_type": "stream",
     "text": [
      "[2023-12-04T11:30:44.750708+0000][29447][CRITICAL] load failed: module 'synthcity.plugins.generic.plugin_great' has no attribute 'plugin'\n",
      "[2023-12-04T11:30:44.751698+0000][29447][CRITICAL] load failed: module 'synthcity.plugins.generic.plugin_great' has no attribute 'plugin'\n",
      "[2023-12-04T11:30:44.752399+0000][29447][CRITICAL] module plugin_great load failed\n",
      "[2023-12-04T11:30:44.753339+0000][29447][CRITICAL] module disabled: /home/JacquelineYau/deep_generative_ensemble/synthcity/src/synthcity/plugins/generic/plugin_goggle.py\n",
      "[2023-12-04T11:30:44.904240+0000][29447][CRITICAL] load failed: libcudart.so.12: cannot open shared object file: No such file or directory\n",
      "[2023-12-04T11:30:44.905126+0000][29447][CRITICAL] load failed: module 'synthcity.plugins.privacy.plugin_decaf' has no attribute 'plugin'\n",
      "[2023-12-04T11:30:44.905863+0000][29447][CRITICAL] module plugin_decaf load failed\n"
     ]
    },
    {
     "name": "stdout",
     "output_type": "stream",
     "text": [
      "np.unique(y):  [1 2]\n",
      "n_total 20000 n_train: 2000\n",
      "Generating synthetic data with model:  ctgan\n",
      "Generating new data, filename is synthetic_data_testing/covid/ctgan/Xsyn_n2000_seed0.pkl\n",
      "Training model 1/5\n",
      "self._plugins:  {'uniform_sampler': <class 'synthcity.plugins.generic.plugin_uniform_sampler.UniformSamplerPlugin'>, 'bayesian_network': <class 'synthcity.plugins.generic.plugin_bayesian_network.BayesianNetworkPlugin'>, 'ctgan': <class 'synthcity.plugins.generic.plugin_ctgan.CTGANPlugin'>, 'marginal_distributions': <class 'synthcity.plugins.generic.plugin_marginal_distributions.MarginalDistributionPlugin'>, 'dummy_sampler': <class 'synthcity.plugins.generic.plugin_dummy_sampler.DummySamplerPlugin'>, 'arf': <class 'synthcity.plugins.generic.plugin_arf.ARFPlugin'>, 'ddpm': <class 'synthcity.plugins.generic.plugin_ddpm.TabDDPMPlugin'>, 'rtvae': <class 'synthcity.plugins.generic.plugin_rtvae.RTVAEPlugin'>, 'nflow': <class 'synthcity.plugins.generic.plugin_nflow.NormalizingFlowsPlugin'>, 'tvae': <class 'synthcity.plugins.generic.plugin_tvae.TVAEPlugin'>}\n",
      "self._available_plugins:  {'uniform_sampler': '/home/JacquelineYau/deep_generative_ensemble/synthcity/src/synthcity/plugins/generic/plugin_uniform_sampler.py', 'bayesian_network': '/home/JacquelineYau/deep_generative_ensemble/synthcity/src/synthcity/plugins/generic/plugin_bayesian_network.py', 'ctgan': '/home/JacquelineYau/deep_generative_ensemble/synthcity/src/synthcity/plugins/generic/plugin_ctgan.py', 'marginal_distributions': '/home/JacquelineYau/deep_generative_ensemble/synthcity/src/synthcity/plugins/generic/plugin_marginal_distributions.py', 'dummy_sampler': '/home/JacquelineYau/deep_generative_ensemble/synthcity/src/synthcity/plugins/generic/plugin_dummy_sampler.py', 'arf': '/home/JacquelineYau/deep_generative_ensemble/synthcity/src/synthcity/plugins/generic/plugin_arf.py', 'ddpm': '/home/JacquelineYau/deep_generative_ensemble/synthcity/src/synthcity/plugins/generic/plugin_ddpm.py', 'rtvae': '/home/JacquelineYau/deep_generative_ensemble/synthcity/src/synthcity/plugins/generic/plugin_rtvae.py', 'nflow': '/home/JacquelineYau/deep_generative_ensemble/synthcity/src/synthcity/plugins/generic/plugin_nflow.py', 'tvae': '/home/JacquelineYau/deep_generative_ensemble/synthcity/src/synthcity/plugins/generic/plugin_tvae.py', 'adsgan': '/home/JacquelineYau/deep_generative_ensemble/synthcity/src/synthcity/plugins/privacy/plugin_adsgan.py', 'dpgan': '/home/JacquelineYau/deep_generative_ensemble/synthcity/src/synthcity/plugins/privacy/plugin_dpgan.py', 'pategan': '/home/JacquelineYau/deep_generative_ensemble/synthcity/src/synthcity/plugins/privacy/plugin_pategan.py', 'aim': '/home/JacquelineYau/deep_generative_ensemble/synthcity/src/synthcity/plugins/privacy/plugin_aim.py', 'privbayes': '/home/JacquelineYau/deep_generative_ensemble/synthcity/src/synthcity/plugins/privacy/plugin_privbayes.py', 'survae': '/home/JacquelineYau/deep_generative_ensemble/synthcity/src/synthcity/plugins/survival_analysis/plugin_survae.py', 'survival_gan': '/home/JacquelineYau/deep_generative_ensemble/synthcity/src/synthcity/plugins/survival_analysis/plugin_survival_gan.py', 'survival_nflow': '/home/JacquelineYau/deep_generative_ensemble/synthcity/src/synthcity/plugins/survival_analysis/plugin_survival_nflow.py', 'survival_ctgan': '/home/JacquelineYau/deep_generative_ensemble/synthcity/src/synthcity/plugins/survival_analysis/plugin_survival_ctgan.py', 'timevae': '/home/JacquelineYau/deep_generative_ensemble/synthcity/src/synthcity/plugins/time_series/plugin_timevae.py', 'timegan': '/home/JacquelineYau/deep_generative_ensemble/synthcity/src/synthcity/plugins/time_series/plugin_timegan.py', 'fflows': '/home/JacquelineYau/deep_generative_ensemble/synthcity/src/synthcity/plugins/time_series/plugin_fflows.py', 'radialgan': '/home/JacquelineYau/deep_generative_ensemble/synthcity/src/synthcity/plugins/domain_adaptation/plugin_radialgan.py', 'image_adsgan': '/home/JacquelineYau/deep_generative_ensemble/synthcity/src/synthcity/plugins/images/plugin_image_adsgan.py', 'image_cgan': '/home/JacquelineYau/deep_generative_ensemble/synthcity/src/synthcity/plugins/images/plugin_image_cgan.py'}\n",
      "*******************Training CTGAN plugin**************************\n",
      "using dataloader sampler\n",
      "Full X shape: torch.Size([2000, 62]), X_train shape: torch.Size([1626, 62]), X_val shape: torch.Size([400, 62])\n"
     ]
    },
    {
     "name": "stderr",
     "output_type": "stream",
     "text": [
      " 52%|██████████████████████████████████████████████████████████████████████████████████████▌                                                                              | 1049/2000 [08:37<07:49,  2.03it/s]\n",
      "[2023-12-04T11:39:26.838070+0000][29447][CRITICAL] load failed: module 'synthcity.plugins.generic.plugin_great' has no attribute 'plugin'\n",
      "[2023-12-04T11:39:26.839070+0000][29447][CRITICAL] load failed: module 'synthcity.plugins.generic.plugin_great' has no attribute 'plugin'\n",
      "[2023-12-04T11:39:26.839905+0000][29447][CRITICAL] module plugin_great load failed\n",
      "[2023-12-04T11:39:26.840761+0000][29447][CRITICAL] module disabled: /home/JacquelineYau/deep_generative_ensemble/synthcity/src/synthcity/plugins/generic/plugin_goggle.py\n",
      "[2023-12-04T11:39:26.842273+0000][29447][CRITICAL] load failed: module 'synthcity.plugins.privacy.plugin_decaf' has no attribute 'plugin'\n",
      "[2023-12-04T11:39:26.843058+0000][29447][CRITICAL] load failed: module 'synthcity.plugins.privacy.plugin_decaf' has no attribute 'plugin'\n",
      "[2023-12-04T11:39:26.843813+0000][29447][CRITICAL] module plugin_decaf load failed\n"
     ]
    },
    {
     "name": "stdout",
     "output_type": "stream",
     "text": [
      "Generating new data, filename is synthetic_data_testing/covid/ctgan/Xsyn_n2000_seed1.pkl\n",
      "Training model 2/5\n",
      "self._plugins:  {'uniform_sampler': <class 'synthcity.plugins.generic.plugin_uniform_sampler.UniformSamplerPlugin'>, 'bayesian_network': <class 'synthcity.plugins.generic.plugin_bayesian_network.BayesianNetworkPlugin'>, 'ctgan': <class 'synthcity.plugins.generic.plugin_ctgan.CTGANPlugin'>, 'marginal_distributions': <class 'synthcity.plugins.generic.plugin_marginal_distributions.MarginalDistributionPlugin'>, 'dummy_sampler': <class 'synthcity.plugins.generic.plugin_dummy_sampler.DummySamplerPlugin'>, 'arf': <class 'synthcity.plugins.generic.plugin_arf.ARFPlugin'>, 'ddpm': <class 'synthcity.plugins.generic.plugin_ddpm.TabDDPMPlugin'>, 'rtvae': <class 'synthcity.plugins.generic.plugin_rtvae.RTVAEPlugin'>, 'nflow': <class 'synthcity.plugins.generic.plugin_nflow.NormalizingFlowsPlugin'>, 'tvae': <class 'synthcity.plugins.generic.plugin_tvae.TVAEPlugin'>}\n",
      "self._available_plugins:  {'uniform_sampler': '/home/JacquelineYau/deep_generative_ensemble/synthcity/src/synthcity/plugins/generic/plugin_uniform_sampler.py', 'bayesian_network': '/home/JacquelineYau/deep_generative_ensemble/synthcity/src/synthcity/plugins/generic/plugin_bayesian_network.py', 'ctgan': '/home/JacquelineYau/deep_generative_ensemble/synthcity/src/synthcity/plugins/generic/plugin_ctgan.py', 'marginal_distributions': '/home/JacquelineYau/deep_generative_ensemble/synthcity/src/synthcity/plugins/generic/plugin_marginal_distributions.py', 'dummy_sampler': '/home/JacquelineYau/deep_generative_ensemble/synthcity/src/synthcity/plugins/generic/plugin_dummy_sampler.py', 'arf': '/home/JacquelineYau/deep_generative_ensemble/synthcity/src/synthcity/plugins/generic/plugin_arf.py', 'ddpm': '/home/JacquelineYau/deep_generative_ensemble/synthcity/src/synthcity/plugins/generic/plugin_ddpm.py', 'rtvae': '/home/JacquelineYau/deep_generative_ensemble/synthcity/src/synthcity/plugins/generic/plugin_rtvae.py', 'nflow': '/home/JacquelineYau/deep_generative_ensemble/synthcity/src/synthcity/plugins/generic/plugin_nflow.py', 'tvae': '/home/JacquelineYau/deep_generative_ensemble/synthcity/src/synthcity/plugins/generic/plugin_tvae.py', 'adsgan': '/home/JacquelineYau/deep_generative_ensemble/synthcity/src/synthcity/plugins/privacy/plugin_adsgan.py', 'dpgan': '/home/JacquelineYau/deep_generative_ensemble/synthcity/src/synthcity/plugins/privacy/plugin_dpgan.py', 'pategan': '/home/JacquelineYau/deep_generative_ensemble/synthcity/src/synthcity/plugins/privacy/plugin_pategan.py', 'aim': '/home/JacquelineYau/deep_generative_ensemble/synthcity/src/synthcity/plugins/privacy/plugin_aim.py', 'privbayes': '/home/JacquelineYau/deep_generative_ensemble/synthcity/src/synthcity/plugins/privacy/plugin_privbayes.py', 'survae': '/home/JacquelineYau/deep_generative_ensemble/synthcity/src/synthcity/plugins/survival_analysis/plugin_survae.py', 'survival_gan': '/home/JacquelineYau/deep_generative_ensemble/synthcity/src/synthcity/plugins/survival_analysis/plugin_survival_gan.py', 'survival_nflow': '/home/JacquelineYau/deep_generative_ensemble/synthcity/src/synthcity/plugins/survival_analysis/plugin_survival_nflow.py', 'survival_ctgan': '/home/JacquelineYau/deep_generative_ensemble/synthcity/src/synthcity/plugins/survival_analysis/plugin_survival_ctgan.py', 'timevae': '/home/JacquelineYau/deep_generative_ensemble/synthcity/src/synthcity/plugins/time_series/plugin_timevae.py', 'timegan': '/home/JacquelineYau/deep_generative_ensemble/synthcity/src/synthcity/plugins/time_series/plugin_timegan.py', 'fflows': '/home/JacquelineYau/deep_generative_ensemble/synthcity/src/synthcity/plugins/time_series/plugin_fflows.py', 'radialgan': '/home/JacquelineYau/deep_generative_ensemble/synthcity/src/synthcity/plugins/domain_adaptation/plugin_radialgan.py', 'image_adsgan': '/home/JacquelineYau/deep_generative_ensemble/synthcity/src/synthcity/plugins/images/plugin_image_adsgan.py', 'image_cgan': '/home/JacquelineYau/deep_generative_ensemble/synthcity/src/synthcity/plugins/images/plugin_image_cgan.py'}\n",
      "*******************Training CTGAN plugin**************************\n",
      "using dataloader sampler\n",
      "Full X shape: torch.Size([2000, 62]), X_train shape: torch.Size([1626, 62]), X_val shape: torch.Size([400, 62])\n"
     ]
    },
    {
     "name": "stderr",
     "output_type": "stream",
     "text": [
      " 52%|██████████████████████████████████████████████████████████████████████████████████████▌                                                                              | 1049/2000 [08:53<08:03,  1.96it/s]\n",
      "[2023-12-04T11:48:22.543700+0000][29447][CRITICAL] load failed: module 'synthcity.plugins.generic.plugin_great' has no attribute 'plugin'\n",
      "[2023-12-04T11:48:22.544561+0000][29447][CRITICAL] load failed: module 'synthcity.plugins.generic.plugin_great' has no attribute 'plugin'\n",
      "[2023-12-04T11:48:22.545317+0000][29447][CRITICAL] module plugin_great load failed\n",
      "[2023-12-04T11:48:22.546068+0000][29447][CRITICAL] module disabled: /home/JacquelineYau/deep_generative_ensemble/synthcity/src/synthcity/plugins/generic/plugin_goggle.py\n",
      "[2023-12-04T11:48:22.547520+0000][29447][CRITICAL] load failed: module 'synthcity.plugins.privacy.plugin_decaf' has no attribute 'plugin'\n",
      "[2023-12-04T11:48:22.548247+0000][29447][CRITICAL] load failed: module 'synthcity.plugins.privacy.plugin_decaf' has no attribute 'plugin'\n",
      "[2023-12-04T11:48:22.549253+0000][29447][CRITICAL] module plugin_decaf load failed\n"
     ]
    },
    {
     "name": "stdout",
     "output_type": "stream",
     "text": [
      "Generating new data, filename is synthetic_data_testing/covid/ctgan/Xsyn_n2000_seed2.pkl\n",
      "Training model 3/5\n",
      "self._plugins:  {'uniform_sampler': <class 'synthcity.plugins.generic.plugin_uniform_sampler.UniformSamplerPlugin'>, 'bayesian_network': <class 'synthcity.plugins.generic.plugin_bayesian_network.BayesianNetworkPlugin'>, 'ctgan': <class 'synthcity.plugins.generic.plugin_ctgan.CTGANPlugin'>, 'marginal_distributions': <class 'synthcity.plugins.generic.plugin_marginal_distributions.MarginalDistributionPlugin'>, 'dummy_sampler': <class 'synthcity.plugins.generic.plugin_dummy_sampler.DummySamplerPlugin'>, 'arf': <class 'synthcity.plugins.generic.plugin_arf.ARFPlugin'>, 'ddpm': <class 'synthcity.plugins.generic.plugin_ddpm.TabDDPMPlugin'>, 'rtvae': <class 'synthcity.plugins.generic.plugin_rtvae.RTVAEPlugin'>, 'nflow': <class 'synthcity.plugins.generic.plugin_nflow.NormalizingFlowsPlugin'>, 'tvae': <class 'synthcity.plugins.generic.plugin_tvae.TVAEPlugin'>}\n",
      "self._available_plugins:  {'uniform_sampler': '/home/JacquelineYau/deep_generative_ensemble/synthcity/src/synthcity/plugins/generic/plugin_uniform_sampler.py', 'bayesian_network': '/home/JacquelineYau/deep_generative_ensemble/synthcity/src/synthcity/plugins/generic/plugin_bayesian_network.py', 'ctgan': '/home/JacquelineYau/deep_generative_ensemble/synthcity/src/synthcity/plugins/generic/plugin_ctgan.py', 'marginal_distributions': '/home/JacquelineYau/deep_generative_ensemble/synthcity/src/synthcity/plugins/generic/plugin_marginal_distributions.py', 'dummy_sampler': '/home/JacquelineYau/deep_generative_ensemble/synthcity/src/synthcity/plugins/generic/plugin_dummy_sampler.py', 'arf': '/home/JacquelineYau/deep_generative_ensemble/synthcity/src/synthcity/plugins/generic/plugin_arf.py', 'ddpm': '/home/JacquelineYau/deep_generative_ensemble/synthcity/src/synthcity/plugins/generic/plugin_ddpm.py', 'rtvae': '/home/JacquelineYau/deep_generative_ensemble/synthcity/src/synthcity/plugins/generic/plugin_rtvae.py', 'nflow': '/home/JacquelineYau/deep_generative_ensemble/synthcity/src/synthcity/plugins/generic/plugin_nflow.py', 'tvae': '/home/JacquelineYau/deep_generative_ensemble/synthcity/src/synthcity/plugins/generic/plugin_tvae.py', 'adsgan': '/home/JacquelineYau/deep_generative_ensemble/synthcity/src/synthcity/plugins/privacy/plugin_adsgan.py', 'dpgan': '/home/JacquelineYau/deep_generative_ensemble/synthcity/src/synthcity/plugins/privacy/plugin_dpgan.py', 'pategan': '/home/JacquelineYau/deep_generative_ensemble/synthcity/src/synthcity/plugins/privacy/plugin_pategan.py', 'aim': '/home/JacquelineYau/deep_generative_ensemble/synthcity/src/synthcity/plugins/privacy/plugin_aim.py', 'privbayes': '/home/JacquelineYau/deep_generative_ensemble/synthcity/src/synthcity/plugins/privacy/plugin_privbayes.py', 'survae': '/home/JacquelineYau/deep_generative_ensemble/synthcity/src/synthcity/plugins/survival_analysis/plugin_survae.py', 'survival_gan': '/home/JacquelineYau/deep_generative_ensemble/synthcity/src/synthcity/plugins/survival_analysis/plugin_survival_gan.py', 'survival_nflow': '/home/JacquelineYau/deep_generative_ensemble/synthcity/src/synthcity/plugins/survival_analysis/plugin_survival_nflow.py', 'survival_ctgan': '/home/JacquelineYau/deep_generative_ensemble/synthcity/src/synthcity/plugins/survival_analysis/plugin_survival_ctgan.py', 'timevae': '/home/JacquelineYau/deep_generative_ensemble/synthcity/src/synthcity/plugins/time_series/plugin_timevae.py', 'timegan': '/home/JacquelineYau/deep_generative_ensemble/synthcity/src/synthcity/plugins/time_series/plugin_timegan.py', 'fflows': '/home/JacquelineYau/deep_generative_ensemble/synthcity/src/synthcity/plugins/time_series/plugin_fflows.py', 'radialgan': '/home/JacquelineYau/deep_generative_ensemble/synthcity/src/synthcity/plugins/domain_adaptation/plugin_radialgan.py', 'image_adsgan': '/home/JacquelineYau/deep_generative_ensemble/synthcity/src/synthcity/plugins/images/plugin_image_adsgan.py', 'image_cgan': '/home/JacquelineYau/deep_generative_ensemble/synthcity/src/synthcity/plugins/images/plugin_image_cgan.py'}\n",
      "*******************Training CTGAN plugin**************************\n",
      "using dataloader sampler\n",
      "Full X shape: torch.Size([2000, 62]), X_train shape: torch.Size([1626, 62]), X_val shape: torch.Size([400, 62])\n"
     ]
    },
    {
     "name": "stderr",
     "output_type": "stream",
     "text": [
      " 52%|██████████████████████████████████████████████████████████████████████████████████████▌                                                                              | 1049/2000 [08:36<07:48,  2.03it/s]\n",
      "[2023-12-04T11:57:01.212132+0000][29447][CRITICAL] load failed: module 'synthcity.plugins.generic.plugin_great' has no attribute 'plugin'\n",
      "[2023-12-04T11:57:01.213031+0000][29447][CRITICAL] load failed: module 'synthcity.plugins.generic.plugin_great' has no attribute 'plugin'\n",
      "[2023-12-04T11:57:01.213698+0000][29447][CRITICAL] module plugin_great load failed\n",
      "[2023-12-04T11:57:01.214677+0000][29447][CRITICAL] module disabled: /home/JacquelineYau/deep_generative_ensemble/synthcity/src/synthcity/plugins/generic/plugin_goggle.py\n",
      "[2023-12-04T11:57:01.216131+0000][29447][CRITICAL] load failed: module 'synthcity.plugins.privacy.plugin_decaf' has no attribute 'plugin'\n",
      "[2023-12-04T11:57:01.216884+0000][29447][CRITICAL] load failed: module 'synthcity.plugins.privacy.plugin_decaf' has no attribute 'plugin'\n",
      "[2023-12-04T11:57:01.217536+0000][29447][CRITICAL] module plugin_decaf load failed\n"
     ]
    },
    {
     "name": "stdout",
     "output_type": "stream",
     "text": [
      "Generating new data, filename is synthetic_data_testing/covid/ctgan/Xsyn_n2000_seed3.pkl\n",
      "Training model 4/5\n",
      "self._plugins:  {'uniform_sampler': <class 'synthcity.plugins.generic.plugin_uniform_sampler.UniformSamplerPlugin'>, 'bayesian_network': <class 'synthcity.plugins.generic.plugin_bayesian_network.BayesianNetworkPlugin'>, 'ctgan': <class 'synthcity.plugins.generic.plugin_ctgan.CTGANPlugin'>, 'marginal_distributions': <class 'synthcity.plugins.generic.plugin_marginal_distributions.MarginalDistributionPlugin'>, 'dummy_sampler': <class 'synthcity.plugins.generic.plugin_dummy_sampler.DummySamplerPlugin'>, 'arf': <class 'synthcity.plugins.generic.plugin_arf.ARFPlugin'>, 'ddpm': <class 'synthcity.plugins.generic.plugin_ddpm.TabDDPMPlugin'>, 'rtvae': <class 'synthcity.plugins.generic.plugin_rtvae.RTVAEPlugin'>, 'nflow': <class 'synthcity.plugins.generic.plugin_nflow.NormalizingFlowsPlugin'>, 'tvae': <class 'synthcity.plugins.generic.plugin_tvae.TVAEPlugin'>}\n",
      "self._available_plugins:  {'uniform_sampler': '/home/JacquelineYau/deep_generative_ensemble/synthcity/src/synthcity/plugins/generic/plugin_uniform_sampler.py', 'bayesian_network': '/home/JacquelineYau/deep_generative_ensemble/synthcity/src/synthcity/plugins/generic/plugin_bayesian_network.py', 'ctgan': '/home/JacquelineYau/deep_generative_ensemble/synthcity/src/synthcity/plugins/generic/plugin_ctgan.py', 'marginal_distributions': '/home/JacquelineYau/deep_generative_ensemble/synthcity/src/synthcity/plugins/generic/plugin_marginal_distributions.py', 'dummy_sampler': '/home/JacquelineYau/deep_generative_ensemble/synthcity/src/synthcity/plugins/generic/plugin_dummy_sampler.py', 'arf': '/home/JacquelineYau/deep_generative_ensemble/synthcity/src/synthcity/plugins/generic/plugin_arf.py', 'ddpm': '/home/JacquelineYau/deep_generative_ensemble/synthcity/src/synthcity/plugins/generic/plugin_ddpm.py', 'rtvae': '/home/JacquelineYau/deep_generative_ensemble/synthcity/src/synthcity/plugins/generic/plugin_rtvae.py', 'nflow': '/home/JacquelineYau/deep_generative_ensemble/synthcity/src/synthcity/plugins/generic/plugin_nflow.py', 'tvae': '/home/JacquelineYau/deep_generative_ensemble/synthcity/src/synthcity/plugins/generic/plugin_tvae.py', 'adsgan': '/home/JacquelineYau/deep_generative_ensemble/synthcity/src/synthcity/plugins/privacy/plugin_adsgan.py', 'dpgan': '/home/JacquelineYau/deep_generative_ensemble/synthcity/src/synthcity/plugins/privacy/plugin_dpgan.py', 'pategan': '/home/JacquelineYau/deep_generative_ensemble/synthcity/src/synthcity/plugins/privacy/plugin_pategan.py', 'aim': '/home/JacquelineYau/deep_generative_ensemble/synthcity/src/synthcity/plugins/privacy/plugin_aim.py', 'privbayes': '/home/JacquelineYau/deep_generative_ensemble/synthcity/src/synthcity/plugins/privacy/plugin_privbayes.py', 'survae': '/home/JacquelineYau/deep_generative_ensemble/synthcity/src/synthcity/plugins/survival_analysis/plugin_survae.py', 'survival_gan': '/home/JacquelineYau/deep_generative_ensemble/synthcity/src/synthcity/plugins/survival_analysis/plugin_survival_gan.py', 'survival_nflow': '/home/JacquelineYau/deep_generative_ensemble/synthcity/src/synthcity/plugins/survival_analysis/plugin_survival_nflow.py', 'survival_ctgan': '/home/JacquelineYau/deep_generative_ensemble/synthcity/src/synthcity/plugins/survival_analysis/plugin_survival_ctgan.py', 'timevae': '/home/JacquelineYau/deep_generative_ensemble/synthcity/src/synthcity/plugins/time_series/plugin_timevae.py', 'timegan': '/home/JacquelineYau/deep_generative_ensemble/synthcity/src/synthcity/plugins/time_series/plugin_timegan.py', 'fflows': '/home/JacquelineYau/deep_generative_ensemble/synthcity/src/synthcity/plugins/time_series/plugin_fflows.py', 'radialgan': '/home/JacquelineYau/deep_generative_ensemble/synthcity/src/synthcity/plugins/domain_adaptation/plugin_radialgan.py', 'image_adsgan': '/home/JacquelineYau/deep_generative_ensemble/synthcity/src/synthcity/plugins/images/plugin_image_adsgan.py', 'image_cgan': '/home/JacquelineYau/deep_generative_ensemble/synthcity/src/synthcity/plugins/images/plugin_image_cgan.py'}\n",
      "*******************Training CTGAN plugin**************************\n",
      "using dataloader sampler\n",
      "Full X shape: torch.Size([2000, 62]), X_train shape: torch.Size([1626, 62]), X_val shape: torch.Size([400, 62])\n"
     ]
    },
    {
     "name": "stderr",
     "output_type": "stream",
     "text": [
      " 52%|██████████████████████████████████████████████████████████████████████████████████████▌                                                                              | 1049/2000 [08:35<07:47,  2.04it/s]\n",
      "[2023-12-04T12:05:38.631671+0000][29447][CRITICAL] load failed: module 'synthcity.plugins.generic.plugin_great' has no attribute 'plugin'\n",
      "[2023-12-04T12:05:38.632722+0000][29447][CRITICAL] load failed: module 'synthcity.plugins.generic.plugin_great' has no attribute 'plugin'\n",
      "[2023-12-04T12:05:38.633375+0000][29447][CRITICAL] module plugin_great load failed\n",
      "[2023-12-04T12:05:38.634289+0000][29447][CRITICAL] module disabled: /home/JacquelineYau/deep_generative_ensemble/synthcity/src/synthcity/plugins/generic/plugin_goggle.py\n",
      "[2023-12-04T12:05:38.635728+0000][29447][CRITICAL] load failed: module 'synthcity.plugins.privacy.plugin_decaf' has no attribute 'plugin'\n",
      "[2023-12-04T12:05:38.636440+0000][29447][CRITICAL] load failed: module 'synthcity.plugins.privacy.plugin_decaf' has no attribute 'plugin'\n",
      "[2023-12-04T12:05:38.637051+0000][29447][CRITICAL] module plugin_decaf load failed\n"
     ]
    },
    {
     "name": "stdout",
     "output_type": "stream",
     "text": [
      "Generating new data, filename is synthetic_data_testing/covid/ctgan/Xsyn_n2000_seed4.pkl\n",
      "Training model 5/5\n",
      "self._plugins:  {'uniform_sampler': <class 'synthcity.plugins.generic.plugin_uniform_sampler.UniformSamplerPlugin'>, 'bayesian_network': <class 'synthcity.plugins.generic.plugin_bayesian_network.BayesianNetworkPlugin'>, 'ctgan': <class 'synthcity.plugins.generic.plugin_ctgan.CTGANPlugin'>, 'marginal_distributions': <class 'synthcity.plugins.generic.plugin_marginal_distributions.MarginalDistributionPlugin'>, 'dummy_sampler': <class 'synthcity.plugins.generic.plugin_dummy_sampler.DummySamplerPlugin'>, 'arf': <class 'synthcity.plugins.generic.plugin_arf.ARFPlugin'>, 'ddpm': <class 'synthcity.plugins.generic.plugin_ddpm.TabDDPMPlugin'>, 'rtvae': <class 'synthcity.plugins.generic.plugin_rtvae.RTVAEPlugin'>, 'nflow': <class 'synthcity.plugins.generic.plugin_nflow.NormalizingFlowsPlugin'>, 'tvae': <class 'synthcity.plugins.generic.plugin_tvae.TVAEPlugin'>}\n",
      "self._available_plugins:  {'uniform_sampler': '/home/JacquelineYau/deep_generative_ensemble/synthcity/src/synthcity/plugins/generic/plugin_uniform_sampler.py', 'bayesian_network': '/home/JacquelineYau/deep_generative_ensemble/synthcity/src/synthcity/plugins/generic/plugin_bayesian_network.py', 'ctgan': '/home/JacquelineYau/deep_generative_ensemble/synthcity/src/synthcity/plugins/generic/plugin_ctgan.py', 'marginal_distributions': '/home/JacquelineYau/deep_generative_ensemble/synthcity/src/synthcity/plugins/generic/plugin_marginal_distributions.py', 'dummy_sampler': '/home/JacquelineYau/deep_generative_ensemble/synthcity/src/synthcity/plugins/generic/plugin_dummy_sampler.py', 'arf': '/home/JacquelineYau/deep_generative_ensemble/synthcity/src/synthcity/plugins/generic/plugin_arf.py', 'ddpm': '/home/JacquelineYau/deep_generative_ensemble/synthcity/src/synthcity/plugins/generic/plugin_ddpm.py', 'rtvae': '/home/JacquelineYau/deep_generative_ensemble/synthcity/src/synthcity/plugins/generic/plugin_rtvae.py', 'nflow': '/home/JacquelineYau/deep_generative_ensemble/synthcity/src/synthcity/plugins/generic/plugin_nflow.py', 'tvae': '/home/JacquelineYau/deep_generative_ensemble/synthcity/src/synthcity/plugins/generic/plugin_tvae.py', 'adsgan': '/home/JacquelineYau/deep_generative_ensemble/synthcity/src/synthcity/plugins/privacy/plugin_adsgan.py', 'dpgan': '/home/JacquelineYau/deep_generative_ensemble/synthcity/src/synthcity/plugins/privacy/plugin_dpgan.py', 'pategan': '/home/JacquelineYau/deep_generative_ensemble/synthcity/src/synthcity/plugins/privacy/plugin_pategan.py', 'aim': '/home/JacquelineYau/deep_generative_ensemble/synthcity/src/synthcity/plugins/privacy/plugin_aim.py', 'privbayes': '/home/JacquelineYau/deep_generative_ensemble/synthcity/src/synthcity/plugins/privacy/plugin_privbayes.py', 'survae': '/home/JacquelineYau/deep_generative_ensemble/synthcity/src/synthcity/plugins/survival_analysis/plugin_survae.py', 'survival_gan': '/home/JacquelineYau/deep_generative_ensemble/synthcity/src/synthcity/plugins/survival_analysis/plugin_survival_gan.py', 'survival_nflow': '/home/JacquelineYau/deep_generative_ensemble/synthcity/src/synthcity/plugins/survival_analysis/plugin_survival_nflow.py', 'survival_ctgan': '/home/JacquelineYau/deep_generative_ensemble/synthcity/src/synthcity/plugins/survival_analysis/plugin_survival_ctgan.py', 'timevae': '/home/JacquelineYau/deep_generative_ensemble/synthcity/src/synthcity/plugins/time_series/plugin_timevae.py', 'timegan': '/home/JacquelineYau/deep_generative_ensemble/synthcity/src/synthcity/plugins/time_series/plugin_timegan.py', 'fflows': '/home/JacquelineYau/deep_generative_ensemble/synthcity/src/synthcity/plugins/time_series/plugin_fflows.py', 'radialgan': '/home/JacquelineYau/deep_generative_ensemble/synthcity/src/synthcity/plugins/domain_adaptation/plugin_radialgan.py', 'image_adsgan': '/home/JacquelineYau/deep_generative_ensemble/synthcity/src/synthcity/plugins/images/plugin_image_adsgan.py', 'image_cgan': '/home/JacquelineYau/deep_generative_ensemble/synthcity/src/synthcity/plugins/images/plugin_image_cgan.py'}\n",
      "*******************Training CTGAN plugin**************************\n",
      "using dataloader sampler\n",
      "Full X shape: torch.Size([2000, 62]), X_train shape: torch.Size([1626, 62]), X_val shape: torch.Size([400, 62])\n"
     ]
    },
    {
     "name": "stderr",
     "output_type": "stream",
     "text": [
      " 52%|██████████████████████████████████████████████████████████████████████████████████████▌                                                                              | 1049/2000 [08:22<07:35,  2.09it/s]\n"
     ]
    },
    {
     "name": "stdout",
     "output_type": "stream",
     "text": [
      "Finished with synthetic data generation!\n",
      "Before covid dataset target change: \n",
      " 1010038    2\n",
      "218504     2\n",
      "136724     2\n",
      "625113     2\n",
      "513098     2\n",
      "          ..\n",
      "966839     2\n",
      "568043     2\n",
      "391932     2\n",
      "147558     2\n",
      "52846      1\n",
      "Name: target, Length: 20000, dtype: int64\n",
      "After covid dataset target change: \n",
      " 1010038     True\n",
      "218504      True\n",
      "136724      True\n",
      "625113      True\n",
      "513098      True\n",
      "           ...  \n",
      "966839      True\n",
      "568043      True\n",
      "391932      True\n",
      "147558      True\n",
      "52846      False\n",
      "Name: target, Length: 20000, dtype: bool\n",
      "Dataset covid\n",
      "\n",
      "targettype:  classification\n",
      "include_concat:  True\n",
      "n_models:  20\n",
      "num_runs:  0\n",
      "list size of synthetic datasets:  5\n"
     ]
    },
    {
     "ename": "ValueError",
     "evalue": "No objects to concatenate",
     "output_type": "error",
     "traceback": [
      "\u001b[0;31m---------------------------------------------------------------------------\u001b[0m",
      "\u001b[0;31mValueError\u001b[0m                                Traceback (most recent call last)",
      "Cell \u001b[0;32mIn[3], line 65\u001b[0m\n\u001b[1;32m     61\u001b[0m \u001b[38;5;28mprint\u001b[39m(\u001b[38;5;124m\"\u001b[39m\u001b[38;5;124mAfter covid dataset target change: \u001b[39m\u001b[38;5;130;01m\\n\u001b[39;00m\u001b[38;5;124m\"\u001b[39m, X_gt[\u001b[38;5;124m'\u001b[39m\u001b[38;5;124mtarget\u001b[39m\u001b[38;5;124m'\u001b[39m])\n\u001b[1;32m     63\u001b[0m \u001b[38;5;28mprint\u001b[39m(\u001b[38;5;124mf\u001b[39m\u001b[38;5;124m'\u001b[39m\u001b[38;5;124mDataset \u001b[39m\u001b[38;5;132;01m{\u001b[39;00mdataset\u001b[38;5;132;01m}\u001b[39;00m\u001b[38;5;130;01m\\n\u001b[39;00m\u001b[38;5;124m'\u001b[39m)\n\u001b[0;32m---> 65\u001b[0m means, stds, _ \u001b[38;5;241m=\u001b[39m \u001b[43mpredictive_experiment\u001b[49m\u001b[43m(\u001b[49m\u001b[43mX_gt\u001b[49m\u001b[43m,\u001b[49m\n\u001b[1;32m     66\u001b[0m \u001b[43m                                        \u001b[49m\u001b[43mX_syns\u001b[49m\u001b[43m,\u001b[49m\n\u001b[1;32m     67\u001b[0m \u001b[43m                                        \u001b[49m\u001b[43mworkspace_folder\u001b[49m\u001b[38;5;241;43m=\u001b[39;49m\u001b[43mworkspace_folder\u001b[49m\u001b[43m,\u001b[49m\n\u001b[1;32m     68\u001b[0m \u001b[43m                                        \u001b[49m\u001b[43mresults_folder\u001b[49m\u001b[38;5;241;43m=\u001b[39;49m\u001b[43mresults_folder\u001b[49m\u001b[43m,\u001b[49m\n\u001b[1;32m     69\u001b[0m \u001b[43m                                        \u001b[49m\u001b[43msave\u001b[49m\u001b[38;5;241;43m=\u001b[39;49m\u001b[43msave\u001b[49m\u001b[43m,\u001b[49m\n\u001b[1;32m     70\u001b[0m \u001b[43m                                        \u001b[49m\u001b[43mload\u001b[49m\u001b[38;5;241;43m=\u001b[39;49m\u001b[43mload\u001b[49m\u001b[43m,\u001b[49m\n\u001b[1;32m     71\u001b[0m \u001b[43m                                        \u001b[49m\u001b[43mplot\u001b[49m\u001b[38;5;241;43m=\u001b[39;49m\u001b[38;5;28;43;01mFalse\u001b[39;49;00m\u001b[43m,\u001b[49m\n\u001b[1;32m     72\u001b[0m \u001b[43m                                        \u001b[49m\u001b[43mtask_type\u001b[49m\u001b[43m \u001b[49m\u001b[38;5;241;43m=\u001b[39;49m\u001b[43m \u001b[49m\u001b[43mmodel_type\u001b[49m\n\u001b[1;32m     73\u001b[0m \u001b[43m                                        \u001b[49m\u001b[43m)\u001b[49m\n\u001b[1;32m     75\u001b[0m \u001b[38;5;28mprint\u001b[39m(means\u001b[38;5;241m.\u001b[39mto_latex())\n\u001b[1;32m     77\u001b[0m all_means[dataset] \u001b[38;5;241m=\u001b[39m means\n",
      "File \u001b[0;32m~/deep_generative_ensemble/DGE_experiments.py:457\u001b[0m, in \u001b[0;36mpredictive_experiment\u001b[0;34m(X_gt, X_syns, n_models, task_type, results_folder, workspace_folder, load, save, plot, outlier, verbose, include_concat)\u001b[0m\n\u001b[1;32m    454\u001b[0m \u001b[38;5;28;01mfor\u001b[39;00m y_pred \u001b[38;5;129;01min\u001b[39;00m y_preds[approach]:\n\u001b[1;32m    455\u001b[0m     scores\u001b[38;5;241m.\u001b[39mappend(compute_metrics(y_true, y_pred, X_test\u001b[38;5;241m.\u001b[39mtargettype))\n\u001b[0;32m--> 457\u001b[0m scores \u001b[38;5;241m=\u001b[39m \u001b[43mpd\u001b[49m\u001b[38;5;241;43m.\u001b[39;49m\u001b[43mconcat\u001b[49m\u001b[43m(\u001b[49m\u001b[43mscores\u001b[49m\u001b[43m,\u001b[49m\u001b[43m \u001b[49m\u001b[43maxis\u001b[49m\u001b[38;5;241;43m=\u001b[39;49m\u001b[38;5;241;43m0\u001b[39;49m\u001b[43m)\u001b[49m\n\u001b[1;32m    458\u001b[0m scores_mean[approach] \u001b[38;5;241m=\u001b[39m np\u001b[38;5;241m.\u001b[39mmean(scores, axis\u001b[38;5;241m=\u001b[39m\u001b[38;5;241m0\u001b[39m)\n\u001b[1;32m    459\u001b[0m scores_std[approach] \u001b[38;5;241m=\u001b[39m np\u001b[38;5;241m.\u001b[39mstd(scores, axis\u001b[38;5;241m=\u001b[39m\u001b[38;5;241m0\u001b[39m)\n",
      "File \u001b[0;32m/opt/conda/envs/boosting/lib/python3.8/site-packages/pandas/util/_decorators.py:331\u001b[0m, in \u001b[0;36mdeprecate_nonkeyword_arguments.<locals>.decorate.<locals>.wrapper\u001b[0;34m(*args, **kwargs)\u001b[0m\n\u001b[1;32m    325\u001b[0m \u001b[38;5;28;01mif\u001b[39;00m \u001b[38;5;28mlen\u001b[39m(args) \u001b[38;5;241m>\u001b[39m num_allow_args:\n\u001b[1;32m    326\u001b[0m     warnings\u001b[38;5;241m.\u001b[39mwarn(\n\u001b[1;32m    327\u001b[0m         msg\u001b[38;5;241m.\u001b[39mformat(arguments\u001b[38;5;241m=\u001b[39m_format_argument_list(allow_args)),\n\u001b[1;32m    328\u001b[0m         \u001b[38;5;167;01mFutureWarning\u001b[39;00m,\n\u001b[1;32m    329\u001b[0m         stacklevel\u001b[38;5;241m=\u001b[39mfind_stack_level(),\n\u001b[1;32m    330\u001b[0m     )\n\u001b[0;32m--> 331\u001b[0m \u001b[38;5;28;01mreturn\u001b[39;00m \u001b[43mfunc\u001b[49m\u001b[43m(\u001b[49m\u001b[38;5;241;43m*\u001b[39;49m\u001b[43margs\u001b[49m\u001b[43m,\u001b[49m\u001b[43m \u001b[49m\u001b[38;5;241;43m*\u001b[39;49m\u001b[38;5;241;43m*\u001b[39;49m\u001b[43mkwargs\u001b[49m\u001b[43m)\u001b[49m\n",
      "File \u001b[0;32m/opt/conda/envs/boosting/lib/python3.8/site-packages/pandas/core/reshape/concat.py:368\u001b[0m, in \u001b[0;36mconcat\u001b[0;34m(objs, axis, join, ignore_index, keys, levels, names, verify_integrity, sort, copy)\u001b[0m\n\u001b[1;32m    146\u001b[0m \u001b[38;5;129m@deprecate_nonkeyword_arguments\u001b[39m(version\u001b[38;5;241m=\u001b[39m\u001b[38;5;28;01mNone\u001b[39;00m, allowed_args\u001b[38;5;241m=\u001b[39m[\u001b[38;5;124m\"\u001b[39m\u001b[38;5;124mobjs\u001b[39m\u001b[38;5;124m\"\u001b[39m])\n\u001b[1;32m    147\u001b[0m \u001b[38;5;28;01mdef\u001b[39;00m \u001b[38;5;21mconcat\u001b[39m(\n\u001b[1;32m    148\u001b[0m     objs: Iterable[NDFrame] \u001b[38;5;241m|\u001b[39m Mapping[HashableT, NDFrame],\n\u001b[0;32m   (...)\u001b[0m\n\u001b[1;32m    157\u001b[0m     copy: \u001b[38;5;28mbool\u001b[39m \u001b[38;5;241m=\u001b[39m \u001b[38;5;28;01mTrue\u001b[39;00m,\n\u001b[1;32m    158\u001b[0m ) \u001b[38;5;241m-\u001b[39m\u001b[38;5;241m>\u001b[39m DataFrame \u001b[38;5;241m|\u001b[39m Series:\n\u001b[1;32m    159\u001b[0m \u001b[38;5;250m    \u001b[39m\u001b[38;5;124;03m\"\"\"\u001b[39;00m\n\u001b[1;32m    160\u001b[0m \u001b[38;5;124;03m    Concatenate pandas objects along a particular axis.\u001b[39;00m\n\u001b[1;32m    161\u001b[0m \n\u001b[0;32m   (...)\u001b[0m\n\u001b[1;32m    366\u001b[0m \u001b[38;5;124;03m    1   3   4\u001b[39;00m\n\u001b[1;32m    367\u001b[0m \u001b[38;5;124;03m    \"\"\"\u001b[39;00m\n\u001b[0;32m--> 368\u001b[0m     op \u001b[38;5;241m=\u001b[39m \u001b[43m_Concatenator\u001b[49m\u001b[43m(\u001b[49m\n\u001b[1;32m    369\u001b[0m \u001b[43m        \u001b[49m\u001b[43mobjs\u001b[49m\u001b[43m,\u001b[49m\n\u001b[1;32m    370\u001b[0m \u001b[43m        \u001b[49m\u001b[43maxis\u001b[49m\u001b[38;5;241;43m=\u001b[39;49m\u001b[43maxis\u001b[49m\u001b[43m,\u001b[49m\n\u001b[1;32m    371\u001b[0m \u001b[43m        \u001b[49m\u001b[43mignore_index\u001b[49m\u001b[38;5;241;43m=\u001b[39;49m\u001b[43mignore_index\u001b[49m\u001b[43m,\u001b[49m\n\u001b[1;32m    372\u001b[0m \u001b[43m        \u001b[49m\u001b[43mjoin\u001b[49m\u001b[38;5;241;43m=\u001b[39;49m\u001b[43mjoin\u001b[49m\u001b[43m,\u001b[49m\n\u001b[1;32m    373\u001b[0m \u001b[43m        \u001b[49m\u001b[43mkeys\u001b[49m\u001b[38;5;241;43m=\u001b[39;49m\u001b[43mkeys\u001b[49m\u001b[43m,\u001b[49m\n\u001b[1;32m    374\u001b[0m \u001b[43m        \u001b[49m\u001b[43mlevels\u001b[49m\u001b[38;5;241;43m=\u001b[39;49m\u001b[43mlevels\u001b[49m\u001b[43m,\u001b[49m\n\u001b[1;32m    375\u001b[0m \u001b[43m        \u001b[49m\u001b[43mnames\u001b[49m\u001b[38;5;241;43m=\u001b[39;49m\u001b[43mnames\u001b[49m\u001b[43m,\u001b[49m\n\u001b[1;32m    376\u001b[0m \u001b[43m        \u001b[49m\u001b[43mverify_integrity\u001b[49m\u001b[38;5;241;43m=\u001b[39;49m\u001b[43mverify_integrity\u001b[49m\u001b[43m,\u001b[49m\n\u001b[1;32m    377\u001b[0m \u001b[43m        \u001b[49m\u001b[43mcopy\u001b[49m\u001b[38;5;241;43m=\u001b[39;49m\u001b[43mcopy\u001b[49m\u001b[43m,\u001b[49m\n\u001b[1;32m    378\u001b[0m \u001b[43m        \u001b[49m\u001b[43msort\u001b[49m\u001b[38;5;241;43m=\u001b[39;49m\u001b[43msort\u001b[49m\u001b[43m,\u001b[49m\n\u001b[1;32m    379\u001b[0m \u001b[43m    \u001b[49m\u001b[43m)\u001b[49m\n\u001b[1;32m    381\u001b[0m     \u001b[38;5;28;01mreturn\u001b[39;00m op\u001b[38;5;241m.\u001b[39mget_result()\n",
      "File \u001b[0;32m/opt/conda/envs/boosting/lib/python3.8/site-packages/pandas/core/reshape/concat.py:425\u001b[0m, in \u001b[0;36m_Concatenator.__init__\u001b[0;34m(self, objs, axis, join, keys, levels, names, ignore_index, verify_integrity, copy, sort)\u001b[0m\n\u001b[1;32m    422\u001b[0m     objs \u001b[38;5;241m=\u001b[39m \u001b[38;5;28mlist\u001b[39m(objs)\n\u001b[1;32m    424\u001b[0m \u001b[38;5;28;01mif\u001b[39;00m \u001b[38;5;28mlen\u001b[39m(objs) \u001b[38;5;241m==\u001b[39m \u001b[38;5;241m0\u001b[39m:\n\u001b[0;32m--> 425\u001b[0m     \u001b[38;5;28;01mraise\u001b[39;00m \u001b[38;5;167;01mValueError\u001b[39;00m(\u001b[38;5;124m\"\u001b[39m\u001b[38;5;124mNo objects to concatenate\u001b[39m\u001b[38;5;124m\"\u001b[39m)\n\u001b[1;32m    427\u001b[0m \u001b[38;5;28;01mif\u001b[39;00m keys \u001b[38;5;129;01mis\u001b[39;00m \u001b[38;5;28;01mNone\u001b[39;00m:\n\u001b[1;32m    428\u001b[0m     objs \u001b[38;5;241m=\u001b[39m \u001b[38;5;28mlist\u001b[39m(com\u001b[38;5;241m.\u001b[39mnot_none(\u001b[38;5;241m*\u001b[39mobjs))\n",
      "\u001b[0;31mValueError\u001b[0m: No objects to concatenate"
     ]
    },
    {
     "data": {
      "image/png": "[encoded data removed]",
      "text/plain": [
       "<Figure size 640x480 with 1 Axes>"
      ]
     },
     "metadata": {},
     "output_type": "display_data"
    }
   ],
   "source": [
    "from DGE_experiments import predictive_experiment\n",
    "import pandas as pd\n",
    "\n",
    "\n",
    "all_means = {}\n",
    "all_stds = {}\n",
    "\n",
    "#datasets = ['moons', 'circles', 'breast_cancer', 'adult', 'covid', 'seer']\n",
    "datasets = ['covid']\n",
    "#num_runs=10\n",
    "model_type = 'deepish_mlp'\n",
    "\n",
    "for dataset in datasets:\n",
    "    workspace_folder, results_folder = get_folder_names(\n",
    "        dataset, model_name, max_n=max_n, nsyn=nsyn)\n",
    "\n",
    "    workspace_folder = f\"{workspace_folder}_test_synthcity_ctgan_modified\"\n",
    "    results_folder = f\"{results_folder}_test_synthcity_ctgan_modified\"\n",
    "\n",
    "    # X_gt, X_syns = get_real_and_synthetic(dataset=dataset,\n",
    "    #                                       n_models=n_models*num_runs,\n",
    "    #                                       model_name=model_name,\n",
    "    #                                       load_syn=load_syn,\n",
    "    #                                       verbose=verbose,\n",
    "    #                                       max_n=max_n,\n",
    "    #                                       nsyn=nsyn)\n",
    "    X_gt = load_real_data(dataset, max_n=max_n)\n",
    "    X_train, X_test = X_gt.train(), X_gt.test()\n",
    "\n",
    "    X_train.targettype = X_gt.targettype\n",
    "    X_test.targettype = X_gt.targettype\n",
    "    X_gt.dataset = dataset\n",
    "    n_train = X_train.shape[0]\n",
    "\n",
    "    if nsyn == 'train' or nsyn is None:\n",
    "        nsyn = n_train\n",
    "\n",
    "    data_folder = os.path.join(\"synthetic_data_testing\",dataset,model_name)\n",
    "    print('n_total', X_gt.shape[0], 'n_train:', n_train)\n",
    "\n",
    "    # generate synthetic data for all number of training samples\n",
    "    X_syns = get_synthetic_data(X_gt, model_name,\n",
    "                                n_models=n_models,\n",
    "                                nsyn=nsyn,\n",
    "                                data_folder=data_folder,\n",
    "                                load_syn=load_syn,\n",
    "                                save=save,\n",
    "                                verbose=verbose)\n",
    "\n",
    "    for i in range(len(X_syns)):\n",
    "        X_syns[i].dataset = dataset\n",
    "        X_syns[i].targettype = X_gt.targettype\n",
    "        X_syns[i].dataset = dataset\n",
    "\n",
    "    print(\"Before covid dataset target change: \\n\", X_gt['target'])\n",
    "    if dataset == 'covid':\n",
    "        X_gt['target'] = (X_gt['target']-1).astype(bool)\n",
    "        for i in range(len(X_syns)):\n",
    "            X_syns[i]['target'] = (X_syns[i]['target']-1).astype(bool)\n",
    "    \n",
    "    print(\"After covid dataset target change: \\n\", X_gt['target'])\n",
    "\n",
    "    print(f'Dataset {dataset}\\n')\n",
    "\n",
    "    means, stds, _ = predictive_experiment(X_gt,\n",
    "                                            X_syns,\n",
    "                                            workspace_folder=workspace_folder,\n",
    "                                            results_folder=results_folder,\n",
    "                                            save=save,\n",
    "                                            load=load,\n",
    "                                            plot=False,\n",
    "                                            task_type = model_type\n",
    "                                            )\n",
    "\n",
    "    print(means.to_latex())\n",
    "\n",
    "    all_means[dataset] = means\n",
    "    all_stds[dataset] = stds"
   ]
  },
  {
   "cell_type": "code",
   "execution_count": null,
   "id": "83042a79-35c9-4054-ab97-92778d2fb243",
   "metadata": {},
   "outputs": [],
   "source": []
  }
 ],
 "metadata": {
  "kernelspec": {
   "display_name": "Python 3 (ipykernel)",
   "language": "python",
   "name": "python3"
  },
  "language_info": {
   "codemirror_mode": {
    "name": "ipython",
    "version": 3
   },
   "file_extension": ".py",
   "mimetype": "text/x-python",
   "name": "python",
   "nbconvert_exporter": "python",
   "pygments_lexer": "ipython3",
   "version": "3.8.18"
  }
 },
 "nbformat": 4,
 "nbformat_minor": 5
}
