{
 "cells": [
  {
   "cell_type": "markdown",
   "metadata": {},
   "source": [
    "# Import modules"
   ]
  },
  {
   "cell_type": "code",
   "execution_count": 1,
   "metadata": {},
   "outputs": [
    {
     "name": "stderr",
     "output_type": "stream",
     "text": [
      "[2023-11-23T03:31:25.287140+0000][1530][CRITICAL] load failed: \n",
      "GReaT is not installed. Please install it with pip install GReaT.\n",
      "Please be aware that GReaT is only available for python >= 3.9.\n",
      "\n",
      "[2023-11-23T03:31:25.288837+0000][1530][CRITICAL] load failed: module 'synthcity.plugins.generic.plugin_great' has no attribute 'plugin'\n",
      "[2023-11-23T03:31:25.290983+0000][1530][CRITICAL] module plugin_great load failed\n",
      "[2023-11-23T03:31:25.299446+0000][1530][CRITICAL] module disabled: /opt/conda/envs/syn/lib/python3.8/site-packages/synthcity/plugins/generic/plugin_goggle.py\n"
     ]
    },
    {
     "data": {
      "text/plain": [
       "['marginal_distributions',\n",
       " 'dummy_sampler',\n",
       " 'arf',\n",
       " 'bayesian_network',\n",
       " 'nflow',\n",
       " 'uniform_sampler',\n",
       " 'tvae',\n",
       " 'ddpm',\n",
       " 'ctgan',\n",
       " 'rtvae']"
      ]
     },
     "execution_count": 1,
     "metadata": {},
     "output_type": "execute_result"
    }
   ],
   "source": [
    "from sklearn.datasets import load_diabetes\n",
    "import pickle\n",
    "import pandas as pd\n",
    "import numpy as np\n",
    "import sklearn\n",
    "import matplotlib.pyplot as plt\n",
    "from sklearn.datasets import load_iris\n",
    "import os\n",
    "import torch\n",
    "\n",
    "\n",
    "from synthcity.metrics.eval_performance import (\n",
    "    PerformanceEvaluatorMLP,\n",
    "    PerformanceEvaluatorXGB,\n",
    ")\n",
    "from synthcity.utils import reproducibility\n",
    "from synthcity.plugins import Plugins\n",
    "import synthcity.logger as log\n",
    "from synthcity.plugins.core.dataloader import GenericDataLoader\n",
    "from DGE_utils import metric_different_datasets, mean_across_pandas, add_std, get_folder_names\n",
    "\n",
    "reproducibility.clear_cache()\n",
    "device = torch.device(\"cuda\" if torch.cuda.is_available() else \"cpu\")\n",
    "\n",
    "\n",
    "assert device.type == 'cuda'\n",
    "Plugins(categories=[\"generic\"]).list()\n"
   ]
  },
  {
   "cell_type": "markdown",
   "metadata": {},
   "source": [
    "# Load data and settings"
   ]
  },
  {
   "cell_type": "code",
   "execution_count": 2,
   "metadata": {},
   "outputs": [
    {
     "name": "stdout",
     "output_type": "stream",
     "text": [
      "cuda available? True\n",
      "torch device: cuda\n"
     ]
    }
   ],
   "source": [
    "from DGE_data import get_real_and_synthetic\n",
    "\n",
    "print(\"cuda available? \" + str(torch.cuda.is_available()))\n",
    "print(\"torch device: \" + str(device))\n",
    "# let's restrict ourselves to classification datasets\n",
    "# datasets = ['moons', 'circles', 'breast_cancer',\n",
    "#            'adult',  'seer', 'covid']\n",
    "datasets = ['moons', 'circles', 'breast_cancer',\n",
    "            'adult', 'covid']\n",
    "# ['moons', 'circles','cal_housing', 'adult', 'diabetes', 'breast_cancer',  'seer', 'cutract' ]\n",
    "model_name = 'tvae'  # synthetic data model\n",
    "\n",
    "n_models = 5  # number of models in ensemble, for each run orig: 20\n",
    "max_n = 2000  # maximum number of data points to use for training generative model.\n",
    "nsyn = 2000  # number of synthetic data points per synthetic dataset. Defaults to same as generative training size if None\n",
    "\n",
    "num_runs = 5 # Number of runs. Don't choose to large, since total number of synthetic datasets is num_runs*n_models, orig:10\n",
    "\n",
    "# Whether to load and save models and synthetic datasets\n",
    "load = True  # results\n",
    "load_syn = True  # data\n",
    "save = True  # save results and data\n",
    "\n",
    "verbose = True"
   ]
  },
  {
   "attachments": {},
   "cell_type": "markdown",
   "metadata": {},
   "source": [
    "# Experiments"
   ]
  },
  {
   "attachments": {},
   "cell_type": "markdown",
   "metadata": {},
   "source": [
    "## Model Training"
   ]
  },
  {
   "cell_type": "code",
   "execution_count": 3,
   "metadata": {},
   "outputs": [
    {
     "name": "stdout",
     "output_type": "stream",
     "text": [
      "Loading real data...\n",
      "   age          workclass  fnlwgt   education  education.num  \\\n",
      "0   39          State-gov   77516   Bachelors             13   \n",
      "1   50   Self-emp-not-inc   83311   Bachelors             13   \n",
      "2   38            Private  215646     HS-grad              9   \n",
      "3   53            Private  234721        11th              7   \n",
      "4   28            Private  338409   Bachelors             13   \n",
      "\n",
      "        marital.status          occupation    relationship    race      sex  \\\n",
      "0        Never-married        Adm-clerical   Not-in-family   White     Male   \n",
      "1   Married-civ-spouse     Exec-managerial         Husband   White     Male   \n",
      "2             Divorced   Handlers-cleaners   Not-in-family   White     Male   \n",
      "3   Married-civ-spouse   Handlers-cleaners         Husband   Black     Male   \n",
      "4   Married-civ-spouse      Prof-specialty            Wife   Black   Female   \n",
      "\n",
      "   capital.gain  capital.loss  hours.per.week  native.country  income  \n",
      "0          2174             0              40   United-States   <=50K  \n",
      "1             0             0              13   United-States   <=50K  \n",
      "2             0             0              40   United-States   <=50K  \n",
      "3             0             0              40   United-States   <=50K  \n",
      "4             0             0              40            Cuba   <=50K  \n",
      "Columns in the data:\n",
      "age\n",
      "workclass\n",
      "fnlwgt\n",
      "education\n",
      "education.num\n",
      "marital.status\n",
      "occupation\n",
      "relationship\n",
      "race\n",
      "sex\n",
      "capital.gain\n",
      "capital.loss\n",
      "hours.per.week\n",
      "native.country\n",
      "income\n",
      "after removing spaces:\n",
      "   age         workclass  fnlwgt  education  education.num  \\\n",
      "0   39         State-gov   77516  Bachelors             13   \n",
      "1   50  Self-emp-not-inc   83311  Bachelors             13   \n",
      "2   38           Private  215646    HS-grad              9   \n",
      "3   53           Private  234721       11th              7   \n",
      "4   28           Private  338409  Bachelors             13   \n",
      "\n",
      "       marital.status         occupation   relationship   race     sex  \\\n",
      "0       Never-married       Adm-clerical  Not-in-family  White    Male   \n",
      "1  Married-civ-spouse    Exec-managerial        Husband  White    Male   \n",
      "2            Divorced  Handlers-cleaners  Not-in-family  White    Male   \n",
      "3  Married-civ-spouse  Handlers-cleaners        Husband  Black    Male   \n",
      "4  Married-civ-spouse     Prof-specialty           Wife  Black  Female   \n",
      "\n",
      "   capital.gain  capital.loss  hours.per.week native.country income  \n",
      "0          2174             0              40  United-States  <=50K  \n",
      "1             0             0              13  United-States  <=50K  \n",
      "2             0             0              40  United-States  <=50K  \n",
      "3             0             0              40  United-States  <=50K  \n",
      "4             0             0              40           Cuba  <=50K  \n"
     ]
    },
    {
     "name": "stderr",
     "output_type": "stream",
     "text": [
      "[2023-11-23T03:31:38.615890+0000][1530][CRITICAL] load failed: module 'synthcity.plugins.generic.plugin_great' has no attribute 'plugin'\n",
      "[2023-11-23T03:31:38.617158+0000][1530][CRITICAL] load failed: module 'synthcity.plugins.generic.plugin_great' has no attribute 'plugin'\n",
      "[2023-11-23T03:31:38.618396+0000][1530][CRITICAL] module plugin_great load failed\n",
      "[2023-11-23T03:31:38.620410+0000][1530][CRITICAL] module disabled: /opt/conda/envs/syn/lib/python3.8/site-packages/synthcity/plugins/generic/plugin_goggle.py\n"
     ]
    },
    {
     "name": "stdout",
     "output_type": "stream",
     "text": [
      "original income column: \n",
      " 0         <=50K\n",
      "1         <=50K\n",
      "2         <=50K\n",
      "3         <=50K\n",
      "4         <=50K\n",
      "          ...  \n",
      "48837    <=50K.\n",
      "48838    <=50K.\n",
      "48839    <=50K.\n",
      "48840    <=50K.\n",
      "48841     >50K.\n",
      "Name: income, Length: 48842, dtype: object\n",
      "after mapping: \n",
      " 0        0\n",
      "1        0\n",
      "2        0\n",
      "3        0\n",
      "4        0\n",
      "        ..\n",
      "48837    0\n",
      "48838    0\n",
      "48839    0\n",
      "48840    0\n",
      "48841    1\n",
      "Name: income, Length: 48842, dtype: int64\n",
      "input features: \n",
      "        age  workclass  fnlwgt  education.num  marital.status  occupation  \\\n",
      "0       39          7   77516             13               4           1   \n",
      "1       50          6   83311             13               2           4   \n",
      "2       38          4  215646              9               0           6   \n",
      "3       53          4  234721              7               2           6   \n",
      "4       28          4  338409             13               2          10   \n",
      "...    ...        ...     ...            ...             ...         ...   \n",
      "48837   39          4  215419             13               0          10   \n",
      "48838   64          0  321403              9               6           0   \n",
      "48839   38          4  374983             13               2          10   \n",
      "48840   44          4   83891             13               0           1   \n",
      "48841   35          5  182148             13               2           4   \n",
      "\n",
      "       relationship  race  sex  capital.gain  capital.loss  hours.per.week  \\\n",
      "0                 1     4    1          2174             0              40   \n",
      "1                 0     4    1             0             0              13   \n",
      "2                 1     4    1             0             0              40   \n",
      "3                 0     2    1             0             0              40   \n",
      "4                 5     2    0             0             0              40   \n",
      "...             ...   ...  ...           ...           ...             ...   \n",
      "48837             1     4    0             0             0              36   \n",
      "48838             2     2    1             0             0              40   \n",
      "48839             0     4    1             0             0              50   \n",
      "48840             3     1    1          5455             0              40   \n",
      "48841             0     4    1             0             0              60   \n",
      "\n",
      "       native.country  \n",
      "0                  39  \n",
      "1                  39  \n",
      "2                  39  \n",
      "3                  39  \n",
      "4                   5  \n",
      "...               ...  \n",
      "48837              39  \n",
      "48838              39  \n",
      "48839              39  \n",
      "48840              39  \n",
      "48841              39  \n",
      "\n",
      "[48842 rows x 13 columns]\n",
      "income label should be boolean 0 or 1: \n",
      " 0        0\n",
      "1        0\n",
      "2        0\n",
      "3        0\n",
      "4        0\n",
      "        ..\n",
      "48837    0\n",
      "48838    0\n",
      "48839    0\n",
      "48840    0\n",
      "48841    1\n",
      "Name: income, Length: 48842, dtype: int64\n",
      "any nans:  False\n",
      "how many nans:  0\n",
      "np.unique(y):  [0 1]\n",
      "n_total 48842 n_train: 2000\n",
      "Generating synthetic data with model:  tvae\n",
      "Generating new data, filename is synthetic_data/adult/tvae/Xsyn_n2000_seed0.pkl\n",
      "Training model 1/25\n"
     ]
    },
    {
     "name": "stderr",
     "output_type": "stream",
     "text": [
      "INFO:torch.distributed.nn.jit.instantiator:Created a temporary directory at /var/tmp/tmps5untnx8\n",
      "INFO:torch.distributed.nn.jit.instantiator:Writing /var/tmp/tmps5untnx8/_remote_module_non_scriptable.py\n",
      " 50%|███████████████████████████████████████████████████████████████████████████████████                                                                                   | 500/1000 [02:23<02:23,  3.48it/s]\n",
      "[2023-11-23T03:34:13.032896+0000][1530][CRITICAL] load failed: module 'synthcity.plugins.generic.plugin_great' has no attribute 'plugin'\n",
      "[2023-11-23T03:34:13.034189+0000][1530][CRITICAL] load failed: module 'synthcity.plugins.generic.plugin_great' has no attribute 'plugin'\n",
      "[2023-11-23T03:34:13.036753+0000][1530][CRITICAL] module plugin_great load failed\n",
      "[2023-11-23T03:34:13.038796+0000][1530][CRITICAL] module disabled: /opt/conda/envs/syn/lib/python3.8/site-packages/synthcity/plugins/generic/plugin_goggle.py\n"
     ]
    },
    {
     "name": "stdout",
     "output_type": "stream",
     "text": [
      "Generating new data, filename is synthetic_data/adult/tvae/Xsyn_n2000_seed1.pkl\n",
      "Training model 2/25\n"
     ]
    },
    {
     "name": "stderr",
     "output_type": "stream",
     "text": [
      " 50%|███████████████████████████████████████████████████████████████████████████████████                                                                                   | 500/1000 [02:17<02:17,  3.63it/s]\n",
      "[2023-11-23T03:36:38.831431+0000][1530][CRITICAL] load failed: module 'synthcity.plugins.generic.plugin_great' has no attribute 'plugin'\n",
      "[2023-11-23T03:36:38.832665+0000][1530][CRITICAL] load failed: module 'synthcity.plugins.generic.plugin_great' has no attribute 'plugin'\n",
      "[2023-11-23T03:36:38.833618+0000][1530][CRITICAL] module plugin_great load failed\n",
      "[2023-11-23T03:36:38.836092+0000][1530][CRITICAL] module disabled: /opt/conda/envs/syn/lib/python3.8/site-packages/synthcity/plugins/generic/plugin_goggle.py\n"
     ]
    },
    {
     "name": "stdout",
     "output_type": "stream",
     "text": [
      "Generating new data, filename is synthetic_data/adult/tvae/Xsyn_n2000_seed2.pkl\n",
      "Training model 3/25\n"
     ]
    },
    {
     "name": "stderr",
     "output_type": "stream",
     "text": [
      " 50%|███████████████████████████████████████████████████████████████████████████████████                                                                                   | 500/1000 [02:19<02:19,  3.59it/s]\n",
      "[2023-11-23T03:39:06.253495+0000][1530][CRITICAL] load failed: module 'synthcity.plugins.generic.plugin_great' has no attribute 'plugin'\n",
      "[2023-11-23T03:39:06.254851+0000][1530][CRITICAL] load failed: module 'synthcity.plugins.generic.plugin_great' has no attribute 'plugin'\n",
      "[2023-11-23T03:39:06.256493+0000][1530][CRITICAL] module plugin_great load failed\n",
      "[2023-11-23T03:39:06.259179+0000][1530][CRITICAL] module disabled: /opt/conda/envs/syn/lib/python3.8/site-packages/synthcity/plugins/generic/plugin_goggle.py\n"
     ]
    },
    {
     "name": "stdout",
     "output_type": "stream",
     "text": [
      "Generating new data, filename is synthetic_data/adult/tvae/Xsyn_n2000_seed3.pkl\n",
      "Training model 4/25\n"
     ]
    },
    {
     "name": "stderr",
     "output_type": "stream",
     "text": [
      " 50%|███████████████████████████████████████████████████████████████████████████████████                                                                                   | 500/1000 [02:17<02:17,  3.63it/s]\n",
      "[2023-11-23T03:41:31.814762+0000][1530][CRITICAL] load failed: module 'synthcity.plugins.generic.plugin_great' has no attribute 'plugin'\n",
      "[2023-11-23T03:41:31.816708+0000][1530][CRITICAL] load failed: module 'synthcity.plugins.generic.plugin_great' has no attribute 'plugin'\n",
      "[2023-11-23T03:41:31.818918+0000][1530][CRITICAL] module plugin_great load failed\n",
      "[2023-11-23T03:41:31.821116+0000][1530][CRITICAL] module disabled: /opt/conda/envs/syn/lib/python3.8/site-packages/synthcity/plugins/generic/plugin_goggle.py\n"
     ]
    },
    {
     "name": "stdout",
     "output_type": "stream",
     "text": [
      "Generating new data, filename is synthetic_data/adult/tvae/Xsyn_n2000_seed4.pkl\n",
      "Training model 5/25\n"
     ]
    },
    {
     "name": "stderr",
     "output_type": "stream",
     "text": [
      " 50%|███████████████████████████████████████████████████████████████████████████████████                                                                                   | 500/1000 [02:16<02:16,  3.66it/s]\n",
      "[2023-11-23T03:43:56.410809+0000][1530][CRITICAL] load failed: module 'synthcity.plugins.generic.plugin_great' has no attribute 'plugin'\n",
      "[2023-11-23T03:43:56.414193+0000][1530][CRITICAL] load failed: module 'synthcity.plugins.generic.plugin_great' has no attribute 'plugin'\n",
      "[2023-11-23T03:43:56.415121+0000][1530][CRITICAL] module plugin_great load failed\n",
      "[2023-11-23T03:43:56.417738+0000][1530][CRITICAL] module disabled: /opt/conda/envs/syn/lib/python3.8/site-packages/synthcity/plugins/generic/plugin_goggle.py\n"
     ]
    },
    {
     "name": "stdout",
     "output_type": "stream",
     "text": [
      "Generating new data, filename is synthetic_data/adult/tvae/Xsyn_n2000_seed5.pkl\n",
      "Training model 6/25\n"
     ]
    },
    {
     "name": "stderr",
     "output_type": "stream",
     "text": [
      " 50%|███████████████████████████████████████████████████████████████████████████████████                                                                                   | 500/1000 [02:16<02:16,  3.66it/s]\n",
      "[2023-11-23T03:46:21.203976+0000][1530][CRITICAL] load failed: module 'synthcity.plugins.generic.plugin_great' has no attribute 'plugin'\n",
      "[2023-11-23T03:46:21.205162+0000][1530][CRITICAL] load failed: module 'synthcity.plugins.generic.plugin_great' has no attribute 'plugin'\n",
      "[2023-11-23T03:46:21.207722+0000][1530][CRITICAL] module plugin_great load failed\n",
      "[2023-11-23T03:46:21.210944+0000][1530][CRITICAL] module disabled: /opt/conda/envs/syn/lib/python3.8/site-packages/synthcity/plugins/generic/plugin_goggle.py\n"
     ]
    },
    {
     "name": "stdout",
     "output_type": "stream",
     "text": [
      "Generating new data, filename is synthetic_data/adult/tvae/Xsyn_n2000_seed6.pkl\n",
      "Training model 7/25\n"
     ]
    },
    {
     "name": "stderr",
     "output_type": "stream",
     "text": [
      " 50%|███████████████████████████████████████████████████████████████████████████████████                                                                                   | 500/1000 [02:13<02:13,  3.73it/s]\n",
      "[2023-11-23T03:48:42.883136+0000][1530][CRITICAL] load failed: module 'synthcity.plugins.generic.plugin_great' has no attribute 'plugin'\n",
      "[2023-11-23T03:48:42.886550+0000][1530][CRITICAL] load failed: module 'synthcity.plugins.generic.plugin_great' has no attribute 'plugin'\n",
      "[2023-11-23T03:48:42.887602+0000][1530][CRITICAL] module plugin_great load failed\n",
      "[2023-11-23T03:48:42.890083+0000][1530][CRITICAL] module disabled: /opt/conda/envs/syn/lib/python3.8/site-packages/synthcity/plugins/generic/plugin_goggle.py\n"
     ]
    },
    {
     "name": "stdout",
     "output_type": "stream",
     "text": [
      "Generating new data, filename is synthetic_data/adult/tvae/Xsyn_n2000_seed7.pkl\n",
      "Training model 8/25\n"
     ]
    },
    {
     "name": "stderr",
     "output_type": "stream",
     "text": [
      " 50%|███████████████████████████████████████████████████████████████████████████████████                                                                                   | 500/1000 [02:15<02:15,  3.70it/s]\n",
      "[2023-11-23T03:51:06.459203+0000][1530][CRITICAL] load failed: module 'synthcity.plugins.generic.plugin_great' has no attribute 'plugin'\n",
      "[2023-11-23T03:51:06.460471+0000][1530][CRITICAL] load failed: module 'synthcity.plugins.generic.plugin_great' has no attribute 'plugin'\n",
      "[2023-11-23T03:51:06.462761+0000][1530][CRITICAL] module plugin_great load failed\n",
      "[2023-11-23T03:51:06.464193+0000][1530][CRITICAL] module disabled: /opt/conda/envs/syn/lib/python3.8/site-packages/synthcity/plugins/generic/plugin_goggle.py\n"
     ]
    },
    {
     "name": "stdout",
     "output_type": "stream",
     "text": [
      "Generating new data, filename is synthetic_data/adult/tvae/Xsyn_n2000_seed8.pkl\n",
      "Training model 9/25\n"
     ]
    },
    {
     "name": "stderr",
     "output_type": "stream",
     "text": [
      " 50%|███████████████████████████████████████████████████████████████████████████████████                                                                                   | 500/1000 [02:13<02:13,  3.75it/s]\n",
      "[2023-11-23T03:53:27.560558+0000][1530][CRITICAL] load failed: module 'synthcity.plugins.generic.plugin_great' has no attribute 'plugin'\n",
      "[2023-11-23T03:53:27.561873+0000][1530][CRITICAL] load failed: module 'synthcity.plugins.generic.plugin_great' has no attribute 'plugin'\n",
      "[2023-11-23T03:53:27.564473+0000][1530][CRITICAL] module plugin_great load failed\n",
      "[2023-11-23T03:53:27.566126+0000][1530][CRITICAL] module disabled: /opt/conda/envs/syn/lib/python3.8/site-packages/synthcity/plugins/generic/plugin_goggle.py\n"
     ]
    },
    {
     "name": "stdout",
     "output_type": "stream",
     "text": [
      "Generating new data, filename is synthetic_data/adult/tvae/Xsyn_n2000_seed9.pkl\n",
      "Training model 10/25\n"
     ]
    },
    {
     "name": "stderr",
     "output_type": "stream",
     "text": [
      " 50%|███████████████████████████████████████████████████████████████████████████████████                                                                                   | 500/1000 [02:13<02:13,  3.74it/s]\n",
      "[2023-11-23T03:55:48.924804+0000][1530][CRITICAL] load failed: module 'synthcity.plugins.generic.plugin_great' has no attribute 'plugin'\n",
      "[2023-11-23T03:55:48.926039+0000][1530][CRITICAL] load failed: module 'synthcity.plugins.generic.plugin_great' has no attribute 'plugin'\n",
      "[2023-11-23T03:55:48.927729+0000][1530][CRITICAL] module plugin_great load failed\n",
      "[2023-11-23T03:55:48.930509+0000][1530][CRITICAL] module disabled: /opt/conda/envs/syn/lib/python3.8/site-packages/synthcity/plugins/generic/plugin_goggle.py\n"
     ]
    },
    {
     "name": "stdout",
     "output_type": "stream",
     "text": [
      "Generating new data, filename is synthetic_data/adult/tvae/Xsyn_n2000_seed10.pkl\n",
      "Training model 11/25\n"
     ]
    },
    {
     "name": "stderr",
     "output_type": "stream",
     "text": [
      " 50%|███████████████████████████████████████████████████████████████████████████████████                                                                                   | 500/1000 [02:14<02:14,  3.71it/s]\n",
      "[2023-11-23T03:58:11.567887+0000][1530][CRITICAL] load failed: module 'synthcity.plugins.generic.plugin_great' has no attribute 'plugin'\n",
      "[2023-11-23T03:58:11.569081+0000][1530][CRITICAL] load failed: module 'synthcity.plugins.generic.plugin_great' has no attribute 'plugin'\n",
      "[2023-11-23T03:58:11.571512+0000][1530][CRITICAL] module plugin_great load failed\n",
      "[2023-11-23T03:58:11.572905+0000][1530][CRITICAL] module disabled: /opt/conda/envs/syn/lib/python3.8/site-packages/synthcity/plugins/generic/plugin_goggle.py\n"
     ]
    },
    {
     "name": "stdout",
     "output_type": "stream",
     "text": [
      "Generating new data, filename is synthetic_data/adult/tvae/Xsyn_n2000_seed11.pkl\n",
      "Training model 12/25\n"
     ]
    },
    {
     "name": "stderr",
     "output_type": "stream",
     "text": [
      " 50%|███████████████████████████████████████████████████████████████████████████████████                                                                                   | 500/1000 [02:17<02:17,  3.63it/s]\n",
      "[2023-11-23T04:00:37.174264+0000][1530][CRITICAL] load failed: module 'synthcity.plugins.generic.plugin_great' has no attribute 'plugin'\n",
      "[2023-11-23T04:00:37.175462+0000][1530][CRITICAL] load failed: module 'synthcity.plugins.generic.plugin_great' has no attribute 'plugin'\n",
      "[2023-11-23T04:00:37.176267+0000][1530][CRITICAL] module plugin_great load failed\n",
      "[2023-11-23T04:00:37.178936+0000][1530][CRITICAL] module disabled: /opt/conda/envs/syn/lib/python3.8/site-packages/synthcity/plugins/generic/plugin_goggle.py\n"
     ]
    },
    {
     "name": "stdout",
     "output_type": "stream",
     "text": [
      "Generating new data, filename is synthetic_data/adult/tvae/Xsyn_n2000_seed12.pkl\n",
      "Training model 13/25\n"
     ]
    },
    {
     "name": "stderr",
     "output_type": "stream",
     "text": [
      " 50%|███████████████████████████████████████████████████████████████████████████████████                                                                                   | 500/1000 [02:13<02:13,  3.76it/s]\n",
      "[2023-11-23T04:02:57.948433+0000][1530][CRITICAL] load failed: module 'synthcity.plugins.generic.plugin_great' has no attribute 'plugin'\n",
      "[2023-11-23T04:02:57.949689+0000][1530][CRITICAL] load failed: module 'synthcity.plugins.generic.plugin_great' has no attribute 'plugin'\n",
      "[2023-11-23T04:02:57.950526+0000][1530][CRITICAL] module plugin_great load failed\n",
      "[2023-11-23T04:02:57.953231+0000][1530][CRITICAL] module disabled: /opt/conda/envs/syn/lib/python3.8/site-packages/synthcity/plugins/generic/plugin_goggle.py\n"
     ]
    },
    {
     "name": "stdout",
     "output_type": "stream",
     "text": [
      "Generating new data, filename is synthetic_data/adult/tvae/Xsyn_n2000_seed13.pkl\n",
      "Training model 14/25\n"
     ]
    },
    {
     "name": "stderr",
     "output_type": "stream",
     "text": [
      " 50%|███████████████████████████████████████████████████████████████████████████████████                                                                                   | 500/1000 [02:14<02:14,  3.73it/s]\n",
      "[2023-11-23T04:05:20.337217+0000][1530][CRITICAL] load failed: module 'synthcity.plugins.generic.plugin_great' has no attribute 'plugin'\n",
      "[2023-11-23T04:05:20.338551+0000][1530][CRITICAL] load failed: module 'synthcity.plugins.generic.plugin_great' has no attribute 'plugin'\n",
      "[2023-11-23T04:05:20.341140+0000][1530][CRITICAL] module plugin_great load failed\n",
      "[2023-11-23T04:05:20.342893+0000][1530][CRITICAL] module disabled: /opt/conda/envs/syn/lib/python3.8/site-packages/synthcity/plugins/generic/plugin_goggle.py\n"
     ]
    },
    {
     "name": "stdout",
     "output_type": "stream",
     "text": [
      "Generating new data, filename is synthetic_data/adult/tvae/Xsyn_n2000_seed14.pkl\n",
      "Training model 15/25\n"
     ]
    },
    {
     "name": "stderr",
     "output_type": "stream",
     "text": [
      " 50%|███████████████████████████████████████████████████████████████████████████████████                                                                                   | 500/1000 [02:13<02:13,  3.73it/s]\n",
      "[2023-11-23T04:07:42.059199+0000][1530][CRITICAL] load failed: module 'synthcity.plugins.generic.plugin_great' has no attribute 'plugin'\n",
      "[2023-11-23T04:07:42.060408+0000][1530][CRITICAL] load failed: module 'synthcity.plugins.generic.plugin_great' has no attribute 'plugin'\n",
      "[2023-11-23T04:07:42.061196+0000][1530][CRITICAL] module plugin_great load failed\n",
      "[2023-11-23T04:07:42.063748+0000][1530][CRITICAL] module disabled: /opt/conda/envs/syn/lib/python3.8/site-packages/synthcity/plugins/generic/plugin_goggle.py\n"
     ]
    },
    {
     "name": "stdout",
     "output_type": "stream",
     "text": [
      "Generating new data, filename is synthetic_data/adult/tvae/Xsyn_n2000_seed15.pkl\n",
      "Training model 16/25\n"
     ]
    },
    {
     "name": "stderr",
     "output_type": "stream",
     "text": [
      " 50%|███████████████████████████████████████████████████████████████████████████████████                                                                                   | 500/1000 [02:14<02:14,  3.71it/s]\n",
      "[2023-11-23T04:10:04.948485+0000][1530][CRITICAL] load failed: module 'synthcity.plugins.generic.plugin_great' has no attribute 'plugin'\n",
      "[2023-11-23T04:10:04.949782+0000][1530][CRITICAL] load failed: module 'synthcity.plugins.generic.plugin_great' has no attribute 'plugin'\n",
      "[2023-11-23T04:10:04.950665+0000][1530][CRITICAL] module plugin_great load failed\n",
      "[2023-11-23T04:10:04.958351+0000][1530][CRITICAL] module disabled: /opt/conda/envs/syn/lib/python3.8/site-packages/synthcity/plugins/generic/plugin_goggle.py\n"
     ]
    },
    {
     "name": "stdout",
     "output_type": "stream",
     "text": [
      "Generating new data, filename is synthetic_data/adult/tvae/Xsyn_n2000_seed16.pkl\n",
      "Training model 17/25\n"
     ]
    },
    {
     "name": "stderr",
     "output_type": "stream",
     "text": [
      " 50%|███████████████████████████████████████████████████████████████████████████████████                                                                                   | 500/1000 [02:13<02:13,  3.75it/s]\n",
      "[2023-11-23T04:12:26.059672+0000][1530][CRITICAL] load failed: module 'synthcity.plugins.generic.plugin_great' has no attribute 'plugin'\n",
      "[2023-11-23T04:12:26.060939+0000][1530][CRITICAL] load failed: module 'synthcity.plugins.generic.plugin_great' has no attribute 'plugin'\n",
      "[2023-11-23T04:12:26.063569+0000][1530][CRITICAL] module plugin_great load failed\n",
      "[2023-11-23T04:12:26.065365+0000][1530][CRITICAL] module disabled: /opt/conda/envs/syn/lib/python3.8/site-packages/synthcity/plugins/generic/plugin_goggle.py\n"
     ]
    },
    {
     "name": "stdout",
     "output_type": "stream",
     "text": [
      "Generating new data, filename is synthetic_data/adult/tvae/Xsyn_n2000_seed17.pkl\n",
      "Training model 18/25\n"
     ]
    },
    {
     "name": "stderr",
     "output_type": "stream",
     "text": [
      " 50%|███████████████████████████████████████████████████████████████████████████████████                                                                                   | 500/1000 [02:12<02:12,  3.77it/s]\n",
      "[2023-11-23T04:14:46.422875+0000][1530][CRITICAL] load failed: module 'synthcity.plugins.generic.plugin_great' has no attribute 'plugin'\n",
      "[2023-11-23T04:14:46.424252+0000][1530][CRITICAL] load failed: module 'synthcity.plugins.generic.plugin_great' has no attribute 'plugin'\n",
      "[2023-11-23T04:14:46.426926+0000][1530][CRITICAL] module plugin_great load failed\n",
      "[2023-11-23T04:14:46.428668+0000][1530][CRITICAL] module disabled: /opt/conda/envs/syn/lib/python3.8/site-packages/synthcity/plugins/generic/plugin_goggle.py\n"
     ]
    },
    {
     "name": "stdout",
     "output_type": "stream",
     "text": [
      "Generating new data, filename is synthetic_data/adult/tvae/Xsyn_n2000_seed18.pkl\n",
      "Training model 19/25\n"
     ]
    },
    {
     "name": "stderr",
     "output_type": "stream",
     "text": [
      " 50%|███████████████████████████████████████████████████████████████████████████████████                                                                                   | 500/1000 [02:15<02:15,  3.69it/s]\n",
      "[2023-11-23T04:17:09.862842+0000][1530][CRITICAL] load failed: module 'synthcity.plugins.generic.plugin_great' has no attribute 'plugin'\n",
      "[2023-11-23T04:17:09.864678+0000][1530][CRITICAL] load failed: module 'synthcity.plugins.generic.plugin_great' has no attribute 'plugin'\n",
      "[2023-11-23T04:17:09.866772+0000][1530][CRITICAL] module plugin_great load failed\n",
      "[2023-11-23T04:17:09.869138+0000][1530][CRITICAL] module disabled: /opt/conda/envs/syn/lib/python3.8/site-packages/synthcity/plugins/generic/plugin_goggle.py\n"
     ]
    },
    {
     "name": "stdout",
     "output_type": "stream",
     "text": [
      "Generating new data, filename is synthetic_data/adult/tvae/Xsyn_n2000_seed19.pkl\n",
      "Training model 20/25\n"
     ]
    },
    {
     "name": "stderr",
     "output_type": "stream",
     "text": [
      " 50%|███████████████████████████████████████████████████████████████████████████████████                                                                                   | 500/1000 [02:13<02:13,  3.74it/s]\n",
      "[2023-11-23T04:19:31.263947+0000][1530][CRITICAL] load failed: module 'synthcity.plugins.generic.plugin_great' has no attribute 'plugin'\n",
      "[2023-11-23T04:19:31.265068+0000][1530][CRITICAL] load failed: module 'synthcity.plugins.generic.plugin_great' has no attribute 'plugin'\n",
      "[2023-11-23T04:19:31.267423+0000][1530][CRITICAL] module plugin_great load failed\n",
      "[2023-11-23T04:19:31.268891+0000][1530][CRITICAL] module disabled: /opt/conda/envs/syn/lib/python3.8/site-packages/synthcity/plugins/generic/plugin_goggle.py\n"
     ]
    },
    {
     "name": "stdout",
     "output_type": "stream",
     "text": [
      "Generating new data, filename is synthetic_data/adult/tvae/Xsyn_n2000_seed20.pkl\n",
      "Training model 21/25\n"
     ]
    },
    {
     "name": "stderr",
     "output_type": "stream",
     "text": [
      " 50%|███████████████████████████████████████████████████████████████████████████████████                                                                                   | 500/1000 [02:13<02:13,  3.75it/s]\n",
      "[2023-11-23T04:21:52.209047+0000][1530][CRITICAL] load failed: module 'synthcity.plugins.generic.plugin_great' has no attribute 'plugin'\n",
      "[2023-11-23T04:21:52.210215+0000][1530][CRITICAL] load failed: module 'synthcity.plugins.generic.plugin_great' has no attribute 'plugin'\n",
      "[2023-11-23T04:21:52.211323+0000][1530][CRITICAL] module plugin_great load failed\n",
      "[2023-11-23T04:21:52.213905+0000][1530][CRITICAL] module disabled: /opt/conda/envs/syn/lib/python3.8/site-packages/synthcity/plugins/generic/plugin_goggle.py\n"
     ]
    },
    {
     "name": "stdout",
     "output_type": "stream",
     "text": [
      "Generating new data, filename is synthetic_data/adult/tvae/Xsyn_n2000_seed21.pkl\n",
      "Training model 22/25\n"
     ]
    },
    {
     "name": "stderr",
     "output_type": "stream",
     "text": [
      " 50%|███████████████████████████████████████████████████████████████████████████████████                                                                                   | 500/1000 [02:15<02:15,  3.68it/s]\n",
      "[2023-11-23T04:24:15.786790+0000][1530][CRITICAL] load failed: module 'synthcity.plugins.generic.plugin_great' has no attribute 'plugin'\n",
      "[2023-11-23T04:24:15.788001+0000][1530][CRITICAL] load failed: module 'synthcity.plugins.generic.plugin_great' has no attribute 'plugin'\n",
      "[2023-11-23T04:24:15.789010+0000][1530][CRITICAL] module plugin_great load failed\n",
      "[2023-11-23T04:24:15.793201+0000][1530][CRITICAL] module disabled: /opt/conda/envs/syn/lib/python3.8/site-packages/synthcity/plugins/generic/plugin_goggle.py\n"
     ]
    },
    {
     "name": "stdout",
     "output_type": "stream",
     "text": [
      "Generating new data, filename is synthetic_data/adult/tvae/Xsyn_n2000_seed22.pkl\n",
      "Training model 23/25\n"
     ]
    },
    {
     "name": "stderr",
     "output_type": "stream",
     "text": [
      " 50%|███████████████████████████████████████████████████████████████████████████████████                                                                                   | 500/1000 [02:13<02:13,  3.74it/s]\n",
      "[2023-11-23T04:26:37.016669+0000][1530][CRITICAL] load failed: module 'synthcity.plugins.generic.plugin_great' has no attribute 'plugin'\n",
      "[2023-11-23T04:26:37.017900+0000][1530][CRITICAL] load failed: module 'synthcity.plugins.generic.plugin_great' has no attribute 'plugin'\n",
      "[2023-11-23T04:26:37.020364+0000][1530][CRITICAL] module plugin_great load failed\n",
      "[2023-11-23T04:26:37.022486+0000][1530][CRITICAL] module disabled: /opt/conda/envs/syn/lib/python3.8/site-packages/synthcity/plugins/generic/plugin_goggle.py\n"
     ]
    },
    {
     "name": "stdout",
     "output_type": "stream",
     "text": [
      "Generating new data, filename is synthetic_data/adult/tvae/Xsyn_n2000_seed23.pkl\n",
      "Training model 24/25\n"
     ]
    },
    {
     "name": "stderr",
     "output_type": "stream",
     "text": [
      " 50%|███████████████████████████████████████████████████████████████████████████████████                                                                                   | 500/1000 [02:12<02:12,  3.76it/s]\n",
      "[2023-11-23T04:28:57.598220+0000][1530][CRITICAL] load failed: module 'synthcity.plugins.generic.plugin_great' has no attribute 'plugin'\n",
      "[2023-11-23T04:28:57.599451+0000][1530][CRITICAL] load failed: module 'synthcity.plugins.generic.plugin_great' has no attribute 'plugin'\n",
      "[2023-11-23T04:28:57.601995+0000][1530][CRITICAL] module plugin_great load failed\n",
      "[2023-11-23T04:28:57.603854+0000][1530][CRITICAL] module disabled: /opt/conda/envs/syn/lib/python3.8/site-packages/synthcity/plugins/generic/plugin_goggle.py\n"
     ]
    },
    {
     "name": "stdout",
     "output_type": "stream",
     "text": [
      "Generating new data, filename is synthetic_data/adult/tvae/Xsyn_n2000_seed24.pkl\n",
      "Training model 25/25\n"
     ]
    },
    {
     "name": "stderr",
     "output_type": "stream",
     "text": [
      " 50%|███████████████████████████████████████████████████████████████████████████████████                                                                                   | 500/1000 [02:13<02:13,  3.74it/s]\n"
     ]
    },
    {
     "name": "stdout",
     "output_type": "stream",
     "text": [
      "Finished with synthetic data generation!\n",
      "Dataset adult\n",
      "\n",
      "targettype:  classification\n",
      "\\begin{tabular}{lrrrrrrr}\n",
      "\\toprule\n",
      "{} &       AUC &       Acc &        F1 &  Precision &    Recall &       NLL &     Brier \\\\\n",
      "\\midrule\n",
      "Oracle              &  0.857023 &  0.809914 &  0.592830 &   0.608068 &  0.578337 &  0.506772 &  0.139093 \\\\\n",
      "Naive (S)           &  0.745755 &  0.787029 &  0.433954 &   0.596010 &  0.341185 &  0.905341 &  0.175967 \\\\\n",
      "Naive (E)           &  0.784025 &  0.794052 &  0.462113 &   0.616025 &  0.369736 &  0.547085 &  0.154151 \\\\\n",
      "DGE\\$\\_\\{5\\}\\$           &  0.776065 &  0.790637 &  0.464537 &   0.598565 &  0.379550 &  0.607757 &  0.157876 \\\\\n",
      "DGE\\$\\_\\{10\\}\\$          &  0.781384 &  0.792964 &  0.466322 &   0.608415 &  0.378034 &  0.572122 &  0.155128 \\\\\n",
      "DGE\\$\\_\\{20\\}\\$          &  0.784030 &  0.792750 &  0.464711 &   0.608256 &  0.375981 &  0.550062 &  0.154297 \\\\\n",
      "DGE\\$\\_\\{20\\}\\$ (concat) &  0.736815 &  0.752829 &  0.452214 &   0.481366 &  0.426392 &  3.247981 &  0.232554 \\\\\n",
      "\\bottomrule\n",
      "\\end{tabular}\n",
      "\n",
      "Loading real data...\n",
      "np.unique(y):  [1 2]\n",
      "n_total 20000 n_train: 2000\n",
      "Generating synthetic data with model:  tvae\n",
      "Finished with synthetic data generation!\n",
      "Dataset covid\n",
      "\n",
      "targettype:  classification\n",
      "\\begin{tabular}{lrrrrrrr}\n",
      "\\toprule\n",
      "{} &       AUC &       Acc &        F1 &  Precision &    Recall &       NLL &     Brier \\\\\n",
      "\\midrule\n",
      "Oracle              &  0.929214 &  0.925778 &  0.960050 &   0.959018 &  0.961085 &  0.317217 &  0.060321 \\\\\n",
      "Naive (S)           &  0.786657 &  0.920722 &  0.957619 &   0.950141 &  0.965216 &  0.574291 &  0.068770 \\\\\n",
      "Naive (E)           &  0.836740 &  0.923500 &  0.959295 &   0.947448 &  0.971442 &  0.405317 &  0.061332 \\\\\n",
      "DGE\\$\\_\\{5\\}\\$           &  0.818130 &  0.923222 &  0.959211 &   0.945922 &  0.972879 &  0.452669 &  0.062578 \\\\\n",
      "DGE\\$\\_\\{10\\}\\$          &  0.833294 &  0.922278 &  0.958672 &   0.946233 &  0.971442 &  0.421024 &  0.061329 \\\\\n",
      "DGE\\$\\_\\{20\\}\\$          &  0.835495 &  0.922833 &  0.958958 &   0.946733 &  0.971502 &  0.409953 &  0.061315 \\\\\n",
      "DGE\\$\\_\\{20\\}\\$ (concat) &  0.763251 &  0.919000 &  0.956797 &   0.947199 &  0.966593 &  1.513019 &  0.078126 \\\\\n",
      "\\bottomrule\n",
      "\\end{tabular}\n",
      "\n",
      "Loading real data...\n",
      "np.unique(y):  [0 1]\n",
      "n_total 10000 n_train: 2000\n",
      "Generating synthetic data with model:  tvae\n",
      "Finished with synthetic data generation!\n",
      "Dataset moons\n",
      "\n",
      "targettype:  classification\n",
      "\\begin{tabular}{lrrrrrrr}\n",
      "\\toprule\n",
      "{} &       AUC &       Acc &        F1 &  Precision &   Recall &       NLL &     Brier \\\\\n",
      "\\midrule\n",
      "Oracle              &  0.996071 &  0.968500 &  0.968453 &   0.969910 &  0.96700 &  0.079710 &  0.023071 \\\\\n",
      "Naive (S)           &  0.988945 &  0.945000 &  0.944205 &   0.958055 &  0.93075 &  0.299607 &  0.077802 \\\\\n",
      "Naive (E)           &  0.987778 &  0.941250 &  0.940536 &   0.952100 &  0.92925 &  0.296455 &  0.077125 \\\\\n",
      "DGE\\$\\_\\{5\\}\\$           &  0.987347 &  0.939500 &  0.938594 &   0.952859 &  0.92475 &  0.293883 &  0.076544 \\\\\n",
      "DGE\\$\\_\\{10\\}\\$          &  0.986905 &  0.937625 &  0.936779 &   0.949653 &  0.92425 &  0.293749 &  0.076623 \\\\\n",
      "DGE\\$\\_\\{20\\}\\$          &  0.987346 &  0.939000 &  0.938165 &   0.951182 &  0.92550 &  0.296141 &  0.077258 \\\\\n",
      "DGE\\$\\_\\{20\\}\\$ (concat) &  0.920447 &  0.862250 &  0.865116 &   0.847482 &  0.88350 &  0.366570 &  0.109137 \\\\\n",
      "\\bottomrule\n",
      "\\end{tabular}\n",
      "\n",
      "Loading real data...\n",
      "np.unique(y):  [0 1]\n",
      "n_total 10000 n_train: 2000\n",
      "Generating synthetic data with model:  tvae\n",
      "Finished with synthetic data generation!\n",
      "Dataset circles\n",
      "\n",
      "targettype:  classification\n",
      "\\begin{tabular}{lrrrrrrr}\n",
      "\\toprule\n",
      "{} &       AUC &       Acc &        F1 &  Precision &   Recall &       NLL &     Brier \\\\\n",
      "\\midrule\n",
      "Oracle              &  0.868267 &  0.787250 &  0.788203 &   0.784688 &  0.79175 &  0.455608 &  0.147673 \\\\\n",
      "Naive (S)           &  0.859595 &  0.775375 &  0.771112 &   0.786030 &  0.75675 &  0.514784 &  0.168988 \\\\\n",
      "Naive (E)           &  0.860562 &  0.779875 &  0.778797 &   0.782631 &  0.77500 &  0.512888 &  0.167996 \\\\\n",
      "DGE\\$\\_\\{5\\}\\$           &  0.860803 &  0.781750 &  0.778258 &   0.790914 &  0.76600 &  0.512276 &  0.167959 \\\\\n",
      "DGE\\$\\_\\{10\\}\\$          &  0.861493 &  0.781000 &  0.778172 &   0.788353 &  0.76825 &  0.511585 &  0.167526 \\\\\n",
      "DGE\\$\\_\\{20\\}\\$          &  0.860950 &  0.780750 &  0.778423 &   0.786772 &  0.77025 &  0.511790 &  0.167675 \\\\\n",
      "DGE\\$\\_\\{20\\}\\$ (concat) &  0.691478 &  0.633625 &  0.642081 &   0.627596 &  0.65725 &  0.872189 &  0.243983 \\\\\n",
      "\\bottomrule\n",
      "\\end{tabular}\n",
      "\n",
      "Loading real data...\n",
      "np.unique(y):  [0 1]\n",
      "n_total 569 n_train: 455\n",
      "Generating synthetic data with model:  tvae\n",
      "Finished with synthetic data generation!\n",
      "Dataset breast_cancer\n",
      "\n",
      "targettype:  classification\n",
      "\\begin{tabular}{lrrrrrrr}\n",
      "\\toprule\n",
      "{} &       AUC &       Acc &        F1 &  Precision &    Recall &       NLL &     Brier \\\\\n",
      "\\midrule\n",
      "Oracle              &  0.992725 &  0.956140 &  0.965517 &   0.958904 &  0.972222 &  0.153397 &  0.034489 \\\\\n",
      "Naive (S)           &  0.958664 &  0.894737 &  0.916667 &   0.916667 &  0.916667 &  0.872662 &  0.096933 \\\\\n",
      "Naive (E)           &  0.967593 &  0.912281 &  0.930556 &   0.930556 &  0.930556 &  0.390829 &  0.074284 \\\\\n",
      "DGE\\$\\_\\{5\\}\\$           &  0.969907 &  0.903509 &  0.923077 &   0.929577 &  0.916667 &  0.361971 &  0.076130 \\\\\n",
      "DGE\\$\\_\\{10\\}\\$          &  0.964616 &  0.912281 &  0.930556 &   0.930556 &  0.930556 &  0.389408 &  0.078524 \\\\\n",
      "DGE\\$\\_\\{20\\}\\$          &  0.963294 &  0.903509 &  0.923077 &   0.929577 &  0.916667 &  0.387153 &  0.081532 \\\\\n",
      "DGE\\$\\_\\{20\\}\\$ (concat) &  0.931548 &  0.885965 &  0.911565 &   0.893333 &  0.930556 &  1.670606 &  0.110746 \\\\\n",
      "\\bottomrule\n",
      "\\end{tabular}\n",
      "\n"
     ]
    },
    {
     "data": {
      "image/png": "[encoded data removed]",
      "text/plain": [
       "<Figure size 640x480 with 1 Axes>"
      ]
     },
     "metadata": {},
     "output_type": "display_data"
    }
   ],
   "source": [
    "from DGE_experiments import predictive_experiment\n",
    "import pandas as pd\n",
    "\n",
    "\n",
    "all_means = {}\n",
    "all_stds = {}\n",
    "\n",
    "#datasets = ['moons', 'circles', 'breast_cancer', 'adult', 'covid', 'seer']\n",
    "datasets = ['adult', 'covid', 'moons', 'circles', 'breast_cancer']\n",
    "#num_runs=10\n",
    "model_type = 'deepish_mlp'\n",
    "\n",
    "for dataset in datasets:\n",
    "    workspace_folder, results_folder = get_folder_names(\n",
    "        dataset, model_name, max_n=max_n, nsyn=nsyn)\n",
    "\n",
    "    X_gt, X_syns = get_real_and_synthetic(dataset=dataset,\n",
    "                                          n_models=n_models*num_runs,\n",
    "                                          model_name=model_name,\n",
    "                                          load_syn=load_syn,\n",
    "                                          verbose=verbose,\n",
    "                                          max_n=max_n,\n",
    "                                          nsyn=nsyn)\n",
    "\n",
    "\n",
    "    print(f'Dataset {dataset}\\n')\n",
    "\n",
    "    means, stds, _ = predictive_experiment(X_gt,\n",
    "                                            X_syns,\n",
    "                                            workspace_folder=workspace_folder,\n",
    "                                            results_folder=results_folder,\n",
    "                                            save=save,\n",
    "                                            load=load,\n",
    "                                            plot=False,\n",
    "                                            task_type = model_type\n",
    "                                            )\n",
    "\n",
    "    print(means.to_latex())\n",
    "\n",
    "    all_means[dataset] = means\n",
    "    all_stds[dataset] = stds\n",
    "\n"
   ]
  },
  {
   "cell_type": "code",
   "execution_count": 4,
   "metadata": {},
   "outputs": [
    {
     "name": "stdout",
     "output_type": "stream",
     "text": [
      "\\begin{tabular}{lllllll}\n",
      "\\toprule\n",
      "{} &        Moons &      Circles & Adult Income & Breast Cancer &     COVID-19 &   Mean \\\\\n",
      "\\midrule\n",
      "Oracle              &  0.996 ± 0.0 &  0.868 ± 0.0 &  0.857 ± 0.0 &   0.993 ± 0.0 &  0.929 ± 0.0 &  0.929 \\\\\n",
      "Naive (S)           &  0.989 ± 0.0 &   0.86 ± 0.0 &  0.746 ± 0.0 &   0.959 ± 0.0 &  0.787 ± 0.0 &  0.868 \\\\\n",
      "Naive (E)           &  0.988 ± 0.0 &  0.861 ± 0.0 &  0.784 ± 0.0 &   0.968 ± 0.0 &  0.837 ± 0.0 &  0.887 \\\\\n",
      "DGE\\$\\_\\{5\\}\\$           &  0.987 ± 0.0 &  0.861 ± 0.0 &  0.776 ± 0.0 &    0.97 ± 0.0 &  0.818 ± 0.0 &  0.882 \\\\\n",
      "DGE\\$\\_\\{10\\}\\$          &  0.987 ± 0.0 &  0.861 ± 0.0 &  0.781 ± 0.0 &   0.965 ± 0.0 &  0.833 ± 0.0 &  0.886 \\\\\n",
      "DGE\\$\\_\\{20\\}\\$          &  0.987 ± 0.0 &  0.861 ± 0.0 &  0.784 ± 0.0 &   0.963 ± 0.0 &  0.835 ± 0.0 &  0.886 \\\\\n",
      "DGE\\$\\_\\{20\\}\\$ (concat) &   0.92 ± 0.0 &  0.691 ± 0.0 &  0.737 ± 0.0 &   0.932 ± 0.0 &  0.763 ± 0.0 &  0.809 \\\\\n",
      "\\bottomrule\n",
      "\\end{tabular}\n",
      "\n"
     ]
    }
   ],
   "source": [
    "# Print results, aggregated over different datasets\n",
    "means_consolidated = metric_different_datasets(all_means, to_print=False)\n",
    "if num_runs>1:\n",
    "    stds_consolidated = metric_different_datasets(all_stds, to_print=False)\n",
    "    stds_consolidated.drop(columns=['Mean'], inplace=True)\n",
    "    print(add_std(means_consolidated, stds_consolidated).to_latex())\n",
    "else:\n",
    "    print(means_consolidated.to_latex())"
   ]
  },
  {
   "attachments": {},
   "cell_type": "markdown",
   "metadata": {},
   "source": [
    "### Run over generative model sizes\n",
    "Let us study what happens when we run the generative model for different sizes."
   ]
  },
  {
   "cell_type": "code",
   "execution_count": null,
   "metadata": {},
   "outputs": [
    {
     "name": "stdout",
     "output_type": "stream",
     "text": [
      "Loading real data...\n",
      "   age          workclass  fnlwgt   education  education.num  \\\n",
      "0   39          State-gov   77516   Bachelors             13   \n",
      "1   50   Self-emp-not-inc   83311   Bachelors             13   \n",
      "2   38            Private  215646     HS-grad              9   \n",
      "3   53            Private  234721        11th              7   \n",
      "4   28            Private  338409   Bachelors             13   \n",
      "\n",
      "        marital.status          occupation    relationship    race      sex  \\\n",
      "0        Never-married        Adm-clerical   Not-in-family   White     Male   \n",
      "1   Married-civ-spouse     Exec-managerial         Husband   White     Male   \n",
      "2             Divorced   Handlers-cleaners   Not-in-family   White     Male   \n",
      "3   Married-civ-spouse   Handlers-cleaners         Husband   Black     Male   \n",
      "4   Married-civ-spouse      Prof-specialty            Wife   Black   Female   \n",
      "\n",
      "   capital.gain  capital.loss  hours.per.week  native.country  income  \n",
      "0          2174             0              40   United-States   <=50K  \n",
      "1             0             0              13   United-States   <=50K  \n",
      "2             0             0              40   United-States   <=50K  \n",
      "3             0             0              40   United-States   <=50K  \n",
      "4             0             0              40            Cuba   <=50K  \n",
      "Columns in the data:\n",
      "age\n",
      "workclass\n",
      "fnlwgt\n",
      "education\n",
      "education.num\n",
      "marital.status\n",
      "occupation\n",
      "relationship\n",
      "race\n",
      "sex\n",
      "capital.gain\n",
      "capital.loss\n",
      "hours.per.week\n",
      "native.country\n",
      "income\n",
      "after removing spaces:\n",
      "   age         workclass  fnlwgt  education  education.num  \\\n",
      "0   39         State-gov   77516  Bachelors             13   \n",
      "1   50  Self-emp-not-inc   83311  Bachelors             13   \n",
      "2   38           Private  215646    HS-grad              9   \n",
      "3   53           Private  234721       11th              7   \n",
      "4   28           Private  338409  Bachelors             13   \n",
      "\n",
      "       marital.status         occupation   relationship   race     sex  \\\n",
      "0       Never-married       Adm-clerical  Not-in-family  White    Male   \n",
      "1  Married-civ-spouse    Exec-managerial        Husband  White    Male   \n",
      "2            Divorced  Handlers-cleaners  Not-in-family  White    Male   \n",
      "3  Married-civ-spouse  Handlers-cleaners        Husband  Black    Male   \n",
      "4  Married-civ-spouse     Prof-specialty           Wife  Black  Female   \n",
      "\n",
      "   capital.gain  capital.loss  hours.per.week native.country income  \n",
      "0          2174             0              40  United-States  <=50K  \n",
      "1             0             0              13  United-States  <=50K  \n",
      "2             0             0              40  United-States  <=50K  \n",
      "3             0             0              40  United-States  <=50K  \n",
      "4             0             0              40           Cuba  <=50K  \n",
      "original income column: \n",
      " 0         <=50K\n",
      "1         <=50K\n",
      "2         <=50K\n",
      "3         <=50K\n",
      "4         <=50K\n",
      "          ...  \n",
      "48837    <=50K.\n",
      "48838    <=50K.\n",
      "48839    <=50K.\n",
      "48840    <=50K.\n",
      "48841     >50K.\n",
      "Name: income, Length: 48842, dtype: object\n",
      "after mapping: \n",
      " 0        0\n",
      "1        0\n",
      "2        0\n",
      "3        0\n",
      "4        0\n",
      "        ..\n",
      "48837    0\n",
      "48838    0\n",
      "48839    0\n",
      "48840    0\n",
      "48841    1\n",
      "Name: income, Length: 48842, dtype: int64\n"
     ]
    },
    {
     "name": "stderr",
     "output_type": "stream",
     "text": [
      "[2023-11-23T05:18:34.923413+0000][1530][CRITICAL] load failed: module 'synthcity.plugins.generic.plugin_great' has no attribute 'plugin'\n",
      "[2023-11-23T05:18:34.924771+0000][1530][CRITICAL] load failed: module 'synthcity.plugins.generic.plugin_great' has no attribute 'plugin'\n",
      "[2023-11-23T05:18:34.926956+0000][1530][CRITICAL] module plugin_great load failed\n",
      "[2023-11-23T05:18:34.928460+0000][1530][CRITICAL] module disabled: /opt/conda/envs/syn/lib/python3.8/site-packages/synthcity/plugins/generic/plugin_goggle.py\n"
     ]
    },
    {
     "name": "stdout",
     "output_type": "stream",
     "text": [
      "input features: \n",
      "        age  workclass  fnlwgt  education.num  marital.status  occupation  \\\n",
      "0       39          7   77516             13               4           1   \n",
      "1       50          6   83311             13               2           4   \n",
      "2       38          4  215646              9               0           6   \n",
      "3       53          4  234721              7               2           6   \n",
      "4       28          4  338409             13               2          10   \n",
      "...    ...        ...     ...            ...             ...         ...   \n",
      "48837   39          4  215419             13               0          10   \n",
      "48838   64          0  321403              9               6           0   \n",
      "48839   38          4  374983             13               2          10   \n",
      "48840   44          4   83891             13               0           1   \n",
      "48841   35          5  182148             13               2           4   \n",
      "\n",
      "       relationship  race  sex  capital.gain  capital.loss  hours.per.week  \\\n",
      "0                 1     4    1          2174             0              40   \n",
      "1                 0     4    1             0             0              13   \n",
      "2                 1     4    1             0             0              40   \n",
      "3                 0     2    1             0             0              40   \n",
      "4                 5     2    0             0             0              40   \n",
      "...             ...   ...  ...           ...           ...             ...   \n",
      "48837             1     4    0             0             0              36   \n",
      "48838             2     2    1             0             0              40   \n",
      "48839             0     4    1             0             0              50   \n",
      "48840             3     1    1          5455             0              40   \n",
      "48841             0     4    1             0             0              60   \n",
      "\n",
      "       native.country  \n",
      "0                  39  \n",
      "1                  39  \n",
      "2                  39  \n",
      "3                  39  \n",
      "4                   5  \n",
      "...               ...  \n",
      "48837              39  \n",
      "48838              39  \n",
      "48839              39  \n",
      "48840              39  \n",
      "48841              39  \n",
      "\n",
      "[48842 rows x 13 columns]\n",
      "income label should be boolean 0 or 1: \n",
      " 0        0\n",
      "1        0\n",
      "2        0\n",
      "3        0\n",
      "4        0\n",
      "        ..\n",
      "48837    0\n",
      "48838    0\n",
      "48839    0\n",
      "48840    0\n",
      "48841    1\n",
      "Name: income, Length: 48842, dtype: int64\n",
      "any nans:  False\n",
      "how many nans:  0\n",
      "np.unique(y):  [0 1]\n",
      "n_total 48842 n_train: 5000\n",
      "Generating synthetic data with model:  ctgan_shallow\n",
      "Generating new data, filename is synthetic_data/adult/ctgan_shallow/Xsyn_n5000_seed0.pkl\n",
      "Training model 1/50\n"
     ]
    },
    {
     "name": "stderr",
     "output_type": "stream",
     "text": [
      " 60%|██████████████████████████████████████████████████████████████████████████████████████████████████▉                                                                  | 1199/2000 [16:07<10:46,  1.24it/s]\n",
      "[2023-11-23T05:34:55.588728+0000][1530][CRITICAL] load failed: module 'synthcity.plugins.generic.plugin_great' has no attribute 'plugin'\n",
      "[2023-11-23T05:34:55.589988+0000][1530][CRITICAL] load failed: module 'synthcity.plugins.generic.plugin_great' has no attribute 'plugin'\n",
      "[2023-11-23T05:34:55.591512+0000][1530][CRITICAL] module plugin_great load failed\n",
      "[2023-11-23T05:34:55.593605+0000][1530][CRITICAL] module disabled: /opt/conda/envs/syn/lib/python3.8/site-packages/synthcity/plugins/generic/plugin_goggle.py\n"
     ]
    },
    {
     "name": "stdout",
     "output_type": "stream",
     "text": [
      "Generating new data, filename is synthetic_data/adult/ctgan_shallow/Xsyn_n5000_seed1.pkl\n",
      "Training model 2/50\n"
     ]
    },
    {
     "name": "stderr",
     "output_type": "stream",
     "text": [
      " 20%|█████████████████████████████████                                                                                                                                     | 399/2000 [05:12<20:55,  1.28it/s]\n",
      "[2023-11-23T05:40:22.331707+0000][1530][CRITICAL] load failed: module 'synthcity.plugins.generic.plugin_great' has no attribute 'plugin'\n",
      "[2023-11-23T05:40:22.332907+0000][1530][CRITICAL] load failed: module 'synthcity.plugins.generic.plugin_great' has no attribute 'plugin'\n",
      "[2023-11-23T05:40:22.335366+0000][1530][CRITICAL] module plugin_great load failed\n",
      "[2023-11-23T05:40:22.337140+0000][1530][CRITICAL] module disabled: /opt/conda/envs/syn/lib/python3.8/site-packages/synthcity/plugins/generic/plugin_goggle.py\n"
     ]
    },
    {
     "name": "stdout",
     "output_type": "stream",
     "text": [
      "Generating new data, filename is synthetic_data/adult/ctgan_shallow/Xsyn_n5000_seed2.pkl\n",
      "Training model 3/50\n"
     ]
    },
    {
     "name": "stderr",
     "output_type": "stream",
     "text": [
      " 32%|█████████████████████████████████████████████████████▊                                                                                                                | 649/2000 [08:22<17:25,  1.29it/s]\n",
      "[2023-11-23T05:48:57.870658+0000][1530][CRITICAL] load failed: module 'synthcity.plugins.generic.plugin_great' has no attribute 'plugin'\n",
      "[2023-11-23T05:48:57.871880+0000][1530][CRITICAL] load failed: module 'synthcity.plugins.generic.plugin_great' has no attribute 'plugin'\n",
      "[2023-11-23T05:48:57.874341+0000][1530][CRITICAL] module plugin_great load failed\n",
      "[2023-11-23T05:48:57.876273+0000][1530][CRITICAL] module disabled: /opt/conda/envs/syn/lib/python3.8/site-packages/synthcity/plugins/generic/plugin_goggle.py\n"
     ]
    },
    {
     "name": "stdout",
     "output_type": "stream",
     "text": [
      "Generating new data, filename is synthetic_data/adult/ctgan_shallow/Xsyn_n5000_seed3.pkl\n",
      "Training model 4/50\n"
     ]
    },
    {
     "name": "stderr",
     "output_type": "stream",
     "text": [
      " 25%|█████████████████████████████████████████▍                                                                                                                            | 499/2000 [06:18<18:59,  1.32it/s]\n",
      "[2023-11-23T05:55:30.671781+0000][1530][CRITICAL] load failed: module 'synthcity.plugins.generic.plugin_great' has no attribute 'plugin'\n",
      "[2023-11-23T05:55:30.672872+0000][1530][CRITICAL] load failed: module 'synthcity.plugins.generic.plugin_great' has no attribute 'plugin'\n",
      "[2023-11-23T05:55:30.673939+0000][1530][CRITICAL] module plugin_great load failed\n",
      "[2023-11-23T05:55:30.677187+0000][1530][CRITICAL] module disabled: /opt/conda/envs/syn/lib/python3.8/site-packages/synthcity/plugins/generic/plugin_goggle.py\n"
     ]
    },
    {
     "name": "stdout",
     "output_type": "stream",
     "text": [
      "Generating new data, filename is synthetic_data/adult/ctgan_shallow/Xsyn_n5000_seed4.pkl\n",
      "Training model 5/50\n"
     ]
    },
    {
     "name": "stderr",
     "output_type": "stream",
     "text": [
      " 72%|███████████████████████████████████████████████████████████████████████████████████████████████████████████████████████▌                                             | 1449/2000 [18:49<07:09,  1.28it/s]\n",
      "[2023-11-23T06:14:33.178383+0000][1530][CRITICAL] load failed: module 'synthcity.plugins.generic.plugin_great' has no attribute 'plugin'\n",
      "[2023-11-23T06:14:33.179632+0000][1530][CRITICAL] load failed: module 'synthcity.plugins.generic.plugin_great' has no attribute 'plugin'\n",
      "[2023-11-23T06:14:33.182152+0000][1530][CRITICAL] module plugin_great load failed\n",
      "[2023-11-23T06:14:33.183983+0000][1530][CRITICAL] module disabled: /opt/conda/envs/syn/lib/python3.8/site-packages/synthcity/plugins/generic/plugin_goggle.py\n"
     ]
    },
    {
     "name": "stdout",
     "output_type": "stream",
     "text": [
      "Generating new data, filename is synthetic_data/adult/ctgan_shallow/Xsyn_n5000_seed5.pkl\n",
      "Training model 6/50\n"
     ]
    },
    {
     "name": "stderr",
     "output_type": "stream",
     "text": [
      " 50%|██████████████████████████████████████████████████████████████████████████████████▉                                                                                   | 999/2000 [12:45<12:47,  1.30it/s]\n",
      "[2023-11-23T06:27:32.168922+0000][1530][CRITICAL] load failed: module 'synthcity.plugins.generic.plugin_great' has no attribute 'plugin'\n",
      "[2023-11-23T06:27:32.170172+0000][1530][CRITICAL] load failed: module 'synthcity.plugins.generic.plugin_great' has no attribute 'plugin'\n",
      "[2023-11-23T06:27:32.172830+0000][1530][CRITICAL] module plugin_great load failed\n",
      "[2023-11-23T06:27:32.174727+0000][1530][CRITICAL] module disabled: /opt/conda/envs/syn/lib/python3.8/site-packages/synthcity/plugins/generic/plugin_goggle.py\n"
     ]
    },
    {
     "name": "stdout",
     "output_type": "stream",
     "text": [
      "Generating new data, filename is synthetic_data/adult/ctgan_shallow/Xsyn_n5000_seed6.pkl\n",
      "Training model 7/50\n"
     ]
    },
    {
     "name": "stderr",
     "output_type": "stream",
     "text": [
      " 35%|██████████████████████████████████████████████████████████                                                                                                            | 699/2000 [08:36<16:00,  1.35it/s]\n",
      "[2023-11-23T06:36:21.683236+0000][1530][CRITICAL] load failed: module 'synthcity.plugins.generic.plugin_great' has no attribute 'plugin'\n",
      "[2023-11-23T06:36:21.684292+0000][1530][CRITICAL] load failed: module 'synthcity.plugins.generic.plugin_great' has no attribute 'plugin'\n",
      "[2023-11-23T06:36:21.686924+0000][1530][CRITICAL] module plugin_great load failed\n",
      "[2023-11-23T06:36:21.688793+0000][1530][CRITICAL] module disabled: /opt/conda/envs/syn/lib/python3.8/site-packages/synthcity/plugins/generic/plugin_goggle.py\n"
     ]
    },
    {
     "name": "stdout",
     "output_type": "stream",
     "text": [
      "Generating new data, filename is synthetic_data/adult/ctgan_shallow/Xsyn_n5000_seed7.pkl\n",
      "Training model 8/50\n"
     ]
    },
    {
     "name": "stderr",
     "output_type": "stream",
     "text": [
      " 30%|█████████████████████████████████████████████████▋                                                                                                                    | 599/2000 [07:11<16:49,  1.39it/s]\n",
      "[2023-11-23T06:43:46.690751+0000][1530][CRITICAL] load failed: module 'synthcity.plugins.generic.plugin_great' has no attribute 'plugin'\n",
      "[2023-11-23T06:43:46.692013+0000][1530][CRITICAL] load failed: module 'synthcity.plugins.generic.plugin_great' has no attribute 'plugin'\n",
      "[2023-11-23T06:43:46.694460+0000][1530][CRITICAL] module plugin_great load failed\n",
      "[2023-11-23T06:43:46.696200+0000][1530][CRITICAL] module disabled: /opt/conda/envs/syn/lib/python3.8/site-packages/synthcity/plugins/generic/plugin_goggle.py\n"
     ]
    },
    {
     "name": "stdout",
     "output_type": "stream",
     "text": [
      "Generating new data, filename is synthetic_data/adult/ctgan_shallow/Xsyn_n5000_seed8.pkl\n",
      "Training model 9/50\n"
     ]
    },
    {
     "name": "stderr",
     "output_type": "stream",
     "text": [
      " 35%|██████████████████████████████████████████████████████████                                                                                                            | 699/2000 [08:24<15:38,  1.39it/s]\n",
      "[2023-11-23T06:52:24.383206+0000][1530][CRITICAL] load failed: module 'synthcity.plugins.generic.plugin_great' has no attribute 'plugin'\n",
      "[2023-11-23T06:52:24.384367+0000][1530][CRITICAL] load failed: module 'synthcity.plugins.generic.plugin_great' has no attribute 'plugin'\n",
      "[2023-11-23T06:52:24.386991+0000][1530][CRITICAL] module plugin_great load failed\n",
      "[2023-11-23T06:52:24.388710+0000][1530][CRITICAL] module disabled: /opt/conda/envs/syn/lib/python3.8/site-packages/synthcity/plugins/generic/plugin_goggle.py\n"
     ]
    },
    {
     "name": "stdout",
     "output_type": "stream",
     "text": [
      "Generating new data, filename is synthetic_data/adult/ctgan_shallow/Xsyn_n5000_seed9.pkl\n",
      "Training model 10/50\n"
     ]
    },
    {
     "name": "stderr",
     "output_type": "stream",
     "text": [
      " 45%|██████████████████████████████████████████████████████████████████████████▌                                                                                           | 899/2000 [10:54<13:21,  1.37it/s]\n",
      "[2023-11-23T07:03:31.778679+0000][1530][CRITICAL] load failed: module 'synthcity.plugins.generic.plugin_great' has no attribute 'plugin'\n",
      "[2023-11-23T07:03:31.779834+0000][1530][CRITICAL] load failed: module 'synthcity.plugins.generic.plugin_great' has no attribute 'plugin'\n",
      "[2023-11-23T07:03:31.782196+0000][1530][CRITICAL] module plugin_great load failed\n",
      "[2023-11-23T07:03:31.784667+0000][1530][CRITICAL] module disabled: /opt/conda/envs/syn/lib/python3.8/site-packages/synthcity/plugins/generic/plugin_goggle.py\n"
     ]
    },
    {
     "name": "stdout",
     "output_type": "stream",
     "text": [
      "Generating new data, filename is synthetic_data/adult/ctgan_shallow/Xsyn_n5000_seed10.pkl\n",
      "Training model 11/50\n"
     ]
    },
    {
     "name": "stderr",
     "output_type": "stream",
     "text": [
      " 37%|██████████████████████████████████████████████████████████████▏                                                                                                       | 749/2000 [08:49<14:44,  1.42it/s]\n",
      "[2023-11-23T07:12:34.241358+0000][1530][CRITICAL] load failed: module 'synthcity.plugins.generic.plugin_great' has no attribute 'plugin'\n",
      "[2023-11-23T07:12:34.242469+0000][1530][CRITICAL] load failed: module 'synthcity.plugins.generic.plugin_great' has no attribute 'plugin'\n",
      "[2023-11-23T07:12:34.244936+0000][1530][CRITICAL] module plugin_great load failed\n",
      "[2023-11-23T07:12:34.246670+0000][1530][CRITICAL] module disabled: /opt/conda/envs/syn/lib/python3.8/site-packages/synthcity/plugins/generic/plugin_goggle.py\n"
     ]
    },
    {
     "name": "stdout",
     "output_type": "stream",
     "text": [
      "Generating new data, filename is synthetic_data/adult/ctgan_shallow/Xsyn_n5000_seed11.pkl\n",
      "Training model 12/50\n"
     ]
    },
    {
     "name": "stderr",
     "output_type": "stream",
     "text": [
      " 37%|██████████████████████████████████████████████████████████████▏                                                                                                       | 749/2000 [08:42<14:32,  1.43it/s]\n",
      "[2023-11-23T07:21:30.082214+0000][1530][CRITICAL] load failed: module 'synthcity.plugins.generic.plugin_great' has no attribute 'plugin'\n",
      "[2023-11-23T07:21:30.083311+0000][1530][CRITICAL] load failed: module 'synthcity.plugins.generic.plugin_great' has no attribute 'plugin'\n",
      "[2023-11-23T07:21:30.085802+0000][1530][CRITICAL] module plugin_great load failed\n",
      "[2023-11-23T07:21:30.088812+0000][1530][CRITICAL] module disabled: /opt/conda/envs/syn/lib/python3.8/site-packages/synthcity/plugins/generic/plugin_goggle.py\n"
     ]
    },
    {
     "name": "stdout",
     "output_type": "stream",
     "text": [
      "Generating new data, filename is synthetic_data/adult/ctgan_shallow/Xsyn_n5000_seed12.pkl\n",
      "Training model 13/50\n"
     ]
    },
    {
     "name": "stderr",
     "output_type": "stream",
     "text": [
      " 37%|██████████████████████████████████████████████████████████████▏                                                                                                       | 749/2000 [08:37<14:24,  1.45it/s]\n",
      "[2023-11-23T07:30:21.590708+0000][1530][CRITICAL] load failed: module 'synthcity.plugins.generic.plugin_great' has no attribute 'plugin'\n",
      "[2023-11-23T07:30:21.591755+0000][1530][CRITICAL] load failed: module 'synthcity.plugins.generic.plugin_great' has no attribute 'plugin'\n",
      "[2023-11-23T07:30:21.593956+0000][1530][CRITICAL] module plugin_great load failed\n",
      "[2023-11-23T07:30:21.596051+0000][1530][CRITICAL] module disabled: /opt/conda/envs/syn/lib/python3.8/site-packages/synthcity/plugins/generic/plugin_goggle.py\n"
     ]
    },
    {
     "name": "stdout",
     "output_type": "stream",
     "text": [
      "Generating new data, filename is synthetic_data/adult/ctgan_shallow/Xsyn_n5000_seed13.pkl\n",
      "Training model 14/50\n"
     ]
    },
    {
     "name": "stderr",
     "output_type": "stream",
     "text": [
      " 37%|██████████████████████████████████████████████████████████████▏                                                                                                       | 749/2000 [08:30<14:12,  1.47it/s]\n",
      "[2023-11-23T07:39:05.320256+0000][1530][CRITICAL] load failed: module 'synthcity.plugins.generic.plugin_great' has no attribute 'plugin'\n",
      "[2023-11-23T07:39:05.324382+0000][1530][CRITICAL] load failed: module 'synthcity.plugins.generic.plugin_great' has no attribute 'plugin'\n",
      "[2023-11-23T07:39:05.328198+0000][1530][CRITICAL] module plugin_great load failed\n",
      "[2023-11-23T07:39:05.332153+0000][1530][CRITICAL] module disabled: /opt/conda/envs/syn/lib/python3.8/site-packages/synthcity/plugins/generic/plugin_goggle.py\n"
     ]
    },
    {
     "name": "stdout",
     "output_type": "stream",
     "text": [
      "Generating new data, filename is synthetic_data/adult/ctgan_shallow/Xsyn_n5000_seed14.pkl\n",
      "Training model 15/50\n"
     ]
    },
    {
     "name": "stderr",
     "output_type": "stream",
     "text": [
      " 50%|██████████████████████████████████████████████████████████████████████████████████▉                                                                                   | 999/2000 [11:36<11:37,  1.44it/s]\n",
      "[2023-11-23T07:50:54.996860+0000][1530][CRITICAL] load failed: module 'synthcity.plugins.generic.plugin_great' has no attribute 'plugin'\n",
      "[2023-11-23T07:50:54.997942+0000][1530][CRITICAL] load failed: module 'synthcity.plugins.generic.plugin_great' has no attribute 'plugin'\n",
      "[2023-11-23T07:50:55.000442+0000][1530][CRITICAL] module plugin_great load failed\n",
      "[2023-11-23T07:50:55.002117+0000][1530][CRITICAL] module disabled: /opt/conda/envs/syn/lib/python3.8/site-packages/synthcity/plugins/generic/plugin_goggle.py\n"
     ]
    },
    {
     "name": "stdout",
     "output_type": "stream",
     "text": [
      "Generating new data, filename is synthetic_data/adult/ctgan_shallow/Xsyn_n5000_seed15.pkl\n",
      "Training model 16/50\n"
     ]
    },
    {
     "name": "stderr",
     "output_type": "stream",
     "text": [
      " 50%|██████████████████████████████████████████████████████████████████████████████████▉                                                                                   | 999/2000 [11:34<11:35,  1.44it/s]\n",
      "[2023-11-23T08:02:42.823800+0000][1530][CRITICAL] load failed: module 'synthcity.plugins.generic.plugin_great' has no attribute 'plugin'\n",
      "[2023-11-23T08:02:42.824959+0000][1530][CRITICAL] load failed: module 'synthcity.plugins.generic.plugin_great' has no attribute 'plugin'\n",
      "[2023-11-23T08:02:42.826559+0000][1530][CRITICAL] module plugin_great load failed\n",
      "[2023-11-23T08:02:42.829909+0000][1530][CRITICAL] module disabled: /opt/conda/envs/syn/lib/python3.8/site-packages/synthcity/plugins/generic/plugin_goggle.py\n"
     ]
    },
    {
     "name": "stdout",
     "output_type": "stream",
     "text": [
      "Generating new data, filename is synthetic_data/adult/ctgan_shallow/Xsyn_n5000_seed16.pkl\n",
      "Training model 17/50\n"
     ]
    },
    {
     "name": "stderr",
     "output_type": "stream",
     "text": [
      " 50%|██████████████████████████████████████████████████████████████████████████████████▉                                                                                   | 999/2000 [11:34<11:35,  1.44it/s]\n",
      "[2023-11-23T08:14:30.325768+0000][1530][CRITICAL] load failed: module 'synthcity.plugins.generic.plugin_great' has no attribute 'plugin'\n",
      "[2023-11-23T08:14:30.327027+0000][1530][CRITICAL] load failed: module 'synthcity.plugins.generic.plugin_great' has no attribute 'plugin'\n",
      "[2023-11-23T08:14:30.329429+0000][1530][CRITICAL] module plugin_great load failed\n",
      "[2023-11-23T08:14:30.331664+0000][1530][CRITICAL] module disabled: /opt/conda/envs/syn/lib/python3.8/site-packages/synthcity/plugins/generic/plugin_goggle.py\n"
     ]
    },
    {
     "name": "stdout",
     "output_type": "stream",
     "text": [
      "Generating new data, filename is synthetic_data/adult/ctgan_shallow/Xsyn_n5000_seed17.pkl\n",
      "Training model 18/50\n"
     ]
    },
    {
     "name": "stderr",
     "output_type": "stream",
     "text": [
      " 57%|██████████████████████████████████████████████████████████████████████████████████████████████▊                                                                      | 1149/2000 [13:23<09:54,  1.43it/s]\n",
      "[2023-11-23T08:28:06.874483+0000][1530][CRITICAL] load failed: module 'synthcity.plugins.generic.plugin_great' has no attribute 'plugin'\n",
      "[2023-11-23T08:28:06.875698+0000][1530][CRITICAL] load failed: module 'synthcity.plugins.generic.plugin_great' has no attribute 'plugin'\n",
      "[2023-11-23T08:28:06.878342+0000][1530][CRITICAL] module plugin_great load failed\n",
      "[2023-11-23T08:28:06.880203+0000][1530][CRITICAL] module disabled: /opt/conda/envs/syn/lib/python3.8/site-packages/synthcity/plugins/generic/plugin_goggle.py\n"
     ]
    },
    {
     "name": "stdout",
     "output_type": "stream",
     "text": [
      "Generating new data, filename is synthetic_data/adult/ctgan_shallow/Xsyn_n5000_seed18.pkl\n",
      "Training model 19/50\n"
     ]
    },
    {
     "name": "stderr",
     "output_type": "stream",
     "text": [
      " 57%|██████████████████████████████████████████████████████████████████████████████████████████████▊                                                                      | 1149/2000 [13:13<09:47,  1.45it/s]\n",
      "[2023-11-23T08:41:34.147529+0000][1530][CRITICAL] load failed: module 'synthcity.plugins.generic.plugin_great' has no attribute 'plugin'\n",
      "[2023-11-23T08:41:34.148649+0000][1530][CRITICAL] load failed: module 'synthcity.plugins.generic.plugin_great' has no attribute 'plugin'\n",
      "[2023-11-23T08:41:34.150962+0000][1530][CRITICAL] module plugin_great load failed\n",
      "[2023-11-23T08:41:34.152856+0000][1530][CRITICAL] module disabled: /opt/conda/envs/syn/lib/python3.8/site-packages/synthcity/plugins/generic/plugin_goggle.py\n"
     ]
    },
    {
     "name": "stdout",
     "output_type": "stream",
     "text": [
      "Generating new data, filename is synthetic_data/adult/ctgan_shallow/Xsyn_n5000_seed19.pkl\n",
      "Training model 20/50\n"
     ]
    },
    {
     "name": "stderr",
     "output_type": "stream",
     "text": [
      " 57%|██████████████████████████████████████████████████████████████████████████████████████████████▊                                                                      | 1149/2000 [13:07<09:43,  1.46it/s]\n",
      "[2023-11-23T08:54:54.755985+0000][1530][CRITICAL] load failed: module 'synthcity.plugins.generic.plugin_great' has no attribute 'plugin'\n",
      "[2023-11-23T08:54:54.757228+0000][1530][CRITICAL] load failed: module 'synthcity.plugins.generic.plugin_great' has no attribute 'plugin'\n",
      "[2023-11-23T08:54:54.759743+0000][1530][CRITICAL] module plugin_great load failed\n",
      "[2023-11-23T08:54:54.761593+0000][1530][CRITICAL] module disabled: /opt/conda/envs/syn/lib/python3.8/site-packages/synthcity/plugins/generic/plugin_goggle.py\n"
     ]
    },
    {
     "name": "stdout",
     "output_type": "stream",
     "text": [
      "Generating new data, filename is synthetic_data/adult/ctgan_shallow/Xsyn_n5000_seed20.pkl\n",
      "Training model 21/50\n"
     ]
    },
    {
     "name": "stderr",
     "output_type": "stream",
     "text": [
      " 57%|██████████████████████████████████████████████████████████████████████████████████████████████▊                                                                      | 1149/2000 [13:00<09:37,  1.47it/s]\n",
      "[2023-11-23T09:08:08.521673+0000][1530][CRITICAL] load failed: module 'synthcity.plugins.generic.plugin_great' has no attribute 'plugin'\n",
      "[2023-11-23T09:08:08.522824+0000][1530][CRITICAL] load failed: module 'synthcity.plugins.generic.plugin_great' has no attribute 'plugin'\n",
      "[2023-11-23T09:08:08.525130+0000][1530][CRITICAL] module plugin_great load failed\n",
      "[2023-11-23T09:08:08.526976+0000][1530][CRITICAL] module disabled: /opt/conda/envs/syn/lib/python3.8/site-packages/synthcity/plugins/generic/plugin_goggle.py\n"
     ]
    },
    {
     "name": "stdout",
     "output_type": "stream",
     "text": [
      "Generating new data, filename is synthetic_data/adult/ctgan_shallow/Xsyn_n5000_seed21.pkl\n",
      "Training model 22/50\n"
     ]
    },
    {
     "name": "stderr",
     "output_type": "stream",
     "text": [
      " 57%|██████████████████████████████████████████████████████████████████████████████████████████████▊                                                                      | 1149/2000 [12:53<09:33,  1.48it/s]\n",
      "[2023-11-23T09:21:15.685025+0000][1530][CRITICAL] load failed: module 'synthcity.plugins.generic.plugin_great' has no attribute 'plugin'\n",
      "[2023-11-23T09:21:15.686220+0000][1530][CRITICAL] load failed: module 'synthcity.plugins.generic.plugin_great' has no attribute 'plugin'\n",
      "[2023-11-23T09:21:15.688635+0000][1530][CRITICAL] module plugin_great load failed\n",
      "[2023-11-23T09:21:15.690499+0000][1530][CRITICAL] module disabled: /opt/conda/envs/syn/lib/python3.8/site-packages/synthcity/plugins/generic/plugin_goggle.py\n"
     ]
    },
    {
     "name": "stdout",
     "output_type": "stream",
     "text": [
      "Generating new data, filename is synthetic_data/adult/ctgan_shallow/Xsyn_n5000_seed22.pkl\n",
      "Training model 23/50\n"
     ]
    },
    {
     "name": "stderr",
     "output_type": "stream",
     "text": [
      " 57%|██████████████████████████████████████████████████████████████████████████████████████████████▊                                                                      | 1149/2000 [12:45<09:27,  1.50it/s]\n",
      "[2023-11-23T09:34:14.820855+0000][1530][CRITICAL] load failed: module 'synthcity.plugins.generic.plugin_great' has no attribute 'plugin'\n",
      "[2023-11-23T09:34:14.821869+0000][1530][CRITICAL] load failed: module 'synthcity.plugins.generic.plugin_great' has no attribute 'plugin'\n",
      "[2023-11-23T09:34:14.824288+0000][1530][CRITICAL] module plugin_great load failed\n",
      "[2023-11-23T09:34:14.827363+0000][1530][CRITICAL] module disabled: /opt/conda/envs/syn/lib/python3.8/site-packages/synthcity/plugins/generic/plugin_goggle.py\n"
     ]
    },
    {
     "name": "stdout",
     "output_type": "stream",
     "text": [
      "Generating new data, filename is synthetic_data/adult/ctgan_shallow/Xsyn_n5000_seed23.pkl\n",
      "Training model 24/50\n"
     ]
    },
    {
     "name": "stderr",
     "output_type": "stream",
     "text": [
      " 57%|██████████████████████████████████████████████████████████████████████████████████████████████▊                                                                      | 1149/2000 [12:40<09:23,  1.51it/s]\n",
      "[2023-11-23T09:47:08.668843+0000][1530][CRITICAL] load failed: module 'synthcity.plugins.generic.plugin_great' has no attribute 'plugin'\n",
      "[2023-11-23T09:47:08.670007+0000][1530][CRITICAL] load failed: module 'synthcity.plugins.generic.plugin_great' has no attribute 'plugin'\n",
      "[2023-11-23T09:47:08.672224+0000][1530][CRITICAL] module plugin_great load failed\n",
      "[2023-11-23T09:47:08.673922+0000][1530][CRITICAL] module disabled: /opt/conda/envs/syn/lib/python3.8/site-packages/synthcity/plugins/generic/plugin_goggle.py\n"
     ]
    },
    {
     "name": "stdout",
     "output_type": "stream",
     "text": [
      "Generating new data, filename is synthetic_data/adult/ctgan_shallow/Xsyn_n5000_seed24.pkl\n",
      "Training model 25/50\n"
     ]
    },
    {
     "name": "stderr",
     "output_type": "stream",
     "text": [
      " 57%|██████████████████████████████████████████████████████████████████████████████████████████████▊                                                                      | 1149/2000 [12:38<09:21,  1.51it/s]\n",
      "[2023-11-23T10:00:00.401816+0000][1530][CRITICAL] load failed: module 'synthcity.plugins.generic.plugin_great' has no attribute 'plugin'\n",
      "[2023-11-23T10:00:00.402970+0000][1530][CRITICAL] load failed: module 'synthcity.plugins.generic.plugin_great' has no attribute 'plugin'\n",
      "[2023-11-23T10:00:00.405202+0000][1530][CRITICAL] module plugin_great load failed\n",
      "[2023-11-23T10:00:00.407119+0000][1530][CRITICAL] module disabled: /opt/conda/envs/syn/lib/python3.8/site-packages/synthcity/plugins/generic/plugin_goggle.py\n"
     ]
    },
    {
     "name": "stdout",
     "output_type": "stream",
     "text": [
      "Generating new data, filename is synthetic_data/adult/ctgan_shallow/Xsyn_n5000_seed25.pkl\n",
      "Training model 26/50\n"
     ]
    },
    {
     "name": "stderr",
     "output_type": "stream",
     "text": [
      " 57%|██████████████████████████████████████████████████████████████████████████████████████████████▊                                                                      | 1149/2000 [12:38<09:22,  1.51it/s]\n",
      "[2023-11-23T10:12:52.666370+0000][1530][CRITICAL] load failed: module 'synthcity.plugins.generic.plugin_great' has no attribute 'plugin'\n",
      "[2023-11-23T10:12:52.667560+0000][1530][CRITICAL] load failed: module 'synthcity.plugins.generic.plugin_great' has no attribute 'plugin'\n",
      "[2023-11-23T10:12:52.669979+0000][1530][CRITICAL] module plugin_great load failed\n",
      "[2023-11-23T10:12:52.671833+0000][1530][CRITICAL] module disabled: /opt/conda/envs/syn/lib/python3.8/site-packages/synthcity/plugins/generic/plugin_goggle.py\n"
     ]
    },
    {
     "name": "stdout",
     "output_type": "stream",
     "text": [
      "Generating new data, filename is synthetic_data/adult/ctgan_shallow/Xsyn_n5000_seed26.pkl\n",
      "Training model 27/50\n"
     ]
    },
    {
     "name": "stderr",
     "output_type": "stream",
     "text": [
      " 57%|██████████████████████████████████████████████████████████████████████████████████████████████▊                                                                      | 1149/2000 [12:36<09:20,  1.52it/s]\n",
      "[2023-11-23T10:25:42.340601+0000][1530][CRITICAL] load failed: module 'synthcity.plugins.generic.plugin_great' has no attribute 'plugin'\n",
      "[2023-11-23T10:25:42.341760+0000][1530][CRITICAL] load failed: module 'synthcity.plugins.generic.plugin_great' has no attribute 'plugin'\n",
      "[2023-11-23T10:25:42.344077+0000][1530][CRITICAL] module plugin_great load failed\n",
      "[2023-11-23T10:25:42.345959+0000][1530][CRITICAL] module disabled: /opt/conda/envs/syn/lib/python3.8/site-packages/synthcity/plugins/generic/plugin_goggle.py\n"
     ]
    },
    {
     "name": "stdout",
     "output_type": "stream",
     "text": [
      "Generating new data, filename is synthetic_data/adult/ctgan_shallow/Xsyn_n5000_seed27.pkl\n",
      "Training model 28/50\n"
     ]
    },
    {
     "name": "stderr",
     "output_type": "stream",
     "text": [
      " 57%|██████████████████████████████████████████████████████████████████████████████████████████████▊                                                                      | 1149/2000 [12:39<09:22,  1.51it/s]\n",
      "[2023-11-23T10:38:34.612633+0000][1530][CRITICAL] load failed: module 'synthcity.plugins.generic.plugin_great' has no attribute 'plugin'\n",
      "[2023-11-23T10:38:34.613842+0000][1530][CRITICAL] load failed: module 'synthcity.plugins.generic.plugin_great' has no attribute 'plugin'\n",
      "[2023-11-23T10:38:34.616215+0000][1530][CRITICAL] module plugin_great load failed\n",
      "[2023-11-23T10:38:34.618036+0000][1530][CRITICAL] module disabled: /opt/conda/envs/syn/lib/python3.8/site-packages/synthcity/plugins/generic/plugin_goggle.py\n"
     ]
    },
    {
     "name": "stdout",
     "output_type": "stream",
     "text": [
      "Generating new data, filename is synthetic_data/adult/ctgan_shallow/Xsyn_n5000_seed28.pkl\n",
      "Training model 29/50\n"
     ]
    },
    {
     "name": "stderr",
     "output_type": "stream",
     "text": [
      " 54%|████████████████████████████████████████████████████████████████████████████████████████▊                                                                            | 1077/2000 [11:49<09:42,  1.58it/s]"
     ]
    }
   ],
   "source": [
    "from DGE_experiments import predictive_experiment\n",
    "import pandas as pd\n",
    "genrun_all = {}\n",
    "#dataset = 'seer'\n",
    "dataset = 'adult'\n",
    "\n",
    "max_n = 5000\n",
    "nsyn = 5000\n",
    "model_type = 'deepish_mlp'\n",
    "num_runs = 10\n",
    "\n",
    "for layers, model_name in zip(range(1,4),['ctgan_shallow', 'ctgan', 'ctgan_deep']):\n",
    "\n",
    "    workspace_folder, results_folder = get_folder_names(\n",
    "            dataset, model_name, max_n=max_n, nsyn=nsyn)\n",
    "\n",
    "    X_gt, X_syns = get_real_and_synthetic(dataset=dataset,\n",
    "                                        n_models=n_models*num_runs,\n",
    "                                        model_name=model_name,\n",
    "                                        load_syn=load_syn,\n",
    "                                        verbose=verbose,\n",
    "                                        max_n=max_n,\n",
    "                                        nsyn=nsyn)\n",
    "\n",
    "    print(f'Model {model_name}\\n')\n",
    "\n",
    "    means, stds, all = predictive_experiment(X_gt,\n",
    "                                            X_syns,\n",
    "                                            workspace_folder=workspace_folder,\n",
    "                                            results_folder=results_folder,\n",
    "                                            task_type=model_type,\n",
    "                                            save=save,\n",
    "                                            load=load,\n",
    "                                            plot=False,\n",
    "                                            )\n",
    "\n",
    "    all['Hidden layers'] = layers\n",
    "    genrun_all[layers] = all\n",
    "\n"
   ]
  },
  {
   "cell_type": "code",
   "execution_count": null,
   "metadata": {},
   "outputs": [],
   "source": [
    "import seaborn as sns\n",
    "import matplotlib.pyplot as plt\n",
    "\n",
    "dfs = pd.concat(genrun_all)\n",
    "oracle = dfs[dfs['Approach']=='Oracle']\n",
    "dfs = dfs[(dfs['Approach']==\"DGE$_{20}$\")|(dfs['Approach']=='Naive (E)')]\n",
    "\n",
    "metric = 'Acc'\n",
    "\n",
    "sns.catplot(x='Hidden layers', y=metric, data=dfs, kind='box', hue='Approach', aspect = 2, height=3, showfliers = False, legend=False)\n",
    "plt.tight_layout()\n",
    "#draw line for oracle mean\n",
    "plt.axhline(oracle[metric].mean(), color='black', linestyle='--', label='$\\mathcal{D}_R$-model')\n",
    "plt.legend()\n",
    "os.makedirs('results/stories', exist_ok=True)\n",
    "plt.savefig(f'results/stories/training_models_{dataset}_max_n{max_n}_nsyn_{nsyn}_{model_type}_{metric}.png', dpi=300)\n",
    "plt.show()"
   ]
  },
  {
   "attachments": {},
   "cell_type": "markdown",
   "metadata": {},
   "source": [
    "## Model Evaluation\n",
    "\n",
    "We compare the single baseline model vs the generative uncertainty model vs an oracle. Workflow.\n",
    "0. Train and generate synthetic datasets $S_i$.\n",
    "1. Take each synthetic dataset $S_i$ and split it up in train and test.\n",
    "2. Train a model $f_i$ on the train set, for each $S_i$\n",
    "3. Evaluate on the same synthetic dataset's test set $S_{i,test}$, giving $\\hat{M}^S_i$ [Naive evaluation]\n",
    "4. Evaluate on the true real test set (oracle), $D_{test}$, giving $M_i$ [Oracle evaluation]\n",
    "5. Evaluate on the other synthetic datasets $\\cup_{j\\neq i} S_{j}$, giving $\\hat{M}^G_i$ [DGE evaluation]\n",
    "6. Average over all models $f_i$. \n",
    "\n",
    "N.B. the idea of the above, is that the trained model $f_i$ is the same for each evaluation type. In the model selection section, we will compare the performance of different model classes, where we will train a new model for each evaluation type (hence the aim is to evaluate which class is best, while the model itself may vary)."
   ]
  },
  {
   "cell_type": "code",
   "execution_count": null,
   "metadata": {},
   "outputs": [],
   "source": [
    "from DGE_experiments import model_evaluation_experiment\n",
    "\n",
    "evaluation_means = {}\n",
    "evaluation_std = {}\n",
    "relative = False\n",
    "max_n = 5000\n",
    "nsyn = 5000\n",
    "model_name = 'ctgan_deep'\n",
    "#datasets = ['moons', 'circles', 'adult', 'seer', 'covid']\n",
    "datasets = ['moons', 'circles', 'adult', 'covid']\n",
    "model_type = 'deepish_mlp'\n",
    "verbose = True\n",
    "\n",
    "for dataset in datasets:\n",
    "    print('Dataset:', dataset)\n",
    "    workspace_folder, results_folder = get_folder_names(\n",
    "        dataset, model_name, max_n=max_n, nsyn=nsyn)\n",
    "\n",
    "\n",
    "    \n",
    "\n",
    "    # load data\n",
    "    X_gt, X_syns = get_real_and_synthetic(dataset=dataset,\n",
    "                                          n_models=n_models,\n",
    "                                          model_name=model_name,\n",
    "                                          load_syn=load_syn,\n",
    "                                          verbose=verbose,\n",
    "                                          max_n=max_n,\n",
    "                                          nsyn=nsyn)\n",
    "\n",
    "    # get mean and std of dataset over different runs\n",
    "    means, std, _ = model_evaluation_experiment(X_gt, X_syns, workspace_folder=workspace_folder, relative=relative,\n",
    "                                             model_type=model_type,\n",
    "                                             load=load,\n",
    "                                             save=load,\n",
    "                                             verbose=verbose,\n",
    "                                             )\n",
    "\n",
    "    evaluation_means[dataset] = means\n",
    "    evaluation_std[dataset] = std\n"
   ]
  },
  {
   "cell_type": "code",
   "execution_count": null,
   "metadata": {},
   "outputs": [],
   "source": [
    "# mean across datasets\n",
    "# per dataset\n",
    "metric = 'Acc'\n",
    "res = metric_different_datasets(evaluation_means, metric=metric, to_print=False)\n",
    "std_df = metric_different_datasets(evaluation_std, metric=metric, to_print=False)\n",
    "\n",
    "del std_df['Mean']\n",
    "res = add_std(res, std_df)\n",
    "if relative != 'l2':\n",
    "    print(res.to_latex(float_format=lambda x: '%.3f' % x))\n",
    "else:\n",
    "    print(res.to_latex(float_format=lambda x: '%.5f' % x))"
   ]
  },
  {
   "attachments": {},
   "cell_type": "markdown",
   "metadata": {},
   "source": [
    "### Vary the depth of the generative model\n"
   ]
  },
  {
   "cell_type": "code",
   "execution_count": null,
   "metadata": {},
   "outputs": [],
   "source": [
    "from DGE_experiments import model_evaluation_experiment\n",
    "\n",
    "genrun_means = {}\n",
    "genrun_stds = {}\n",
    "genrun_all = {}\n",
    "#dataset = 'seer'\n",
    "dataset = 'adult'\n",
    "relative = False\n",
    "verbose = False\n",
    "\n",
    "max_n = 5000\n",
    "nsyn = 5000\n",
    "n_models = 20\n",
    "\n",
    "for layers, model_name in zip(range(1,4),['ctgan_shallow', 'ctgan', 'ctgan_deep']):\n",
    "\n",
    "    workspace_folder, results_folder = get_folder_names(\n",
    "            dataset, model_name, max_n=max_n, nsyn=nsyn)\n",
    "\n",
    "    X_gt, X_syns = get_real_and_synthetic(dataset=dataset,\n",
    "                                        p_train=p_train,\n",
    "                                        n_models=n_models,\n",
    "                                        model_name=model_name,\n",
    "                                        load_syn=load_syn,\n",
    "                                        verbose=verbose,\n",
    "                                        max_n=max_n,\n",
    "                                        nsyn=nsyn)\n",
    "\n",
    "\n",
    "    _, _, all = model_evaluation_experiment(X_gt, X_syns, workspace_folder=workspace_folder, relative=relative,\n",
    "                                             model_type='deep_mlp',\n",
    "                                             load=load,\n",
    "                                             save=load,\n",
    "                                             verbose=verbose,\n",
    "                                             )\n",
    "\n",
    "    all['Hidden layers'] = layers\n",
    "    genrun_all[layers] = all\n",
    "    "
   ]
  },
  {
   "cell_type": "code",
   "execution_count": null,
   "metadata": {},
   "outputs": [],
   "source": [
    "import seaborn as sns\n",
    "import matplotlib.pyplot as plt\n",
    "\n",
    "metric = 'AUC'\n",
    "dfs = pd.concat(genrun_all,axis=0)\n",
    "dfs.reset_index(inplace=True)\n",
    "dfs['Hidden layers'] = dfs['level_0']\n",
    "dfs = dfs[(dfs['Approach']==\"DGE$_{20}$\")|(dfs['Approach']==\"DGE (K=20)\")|(dfs['Approach']=='Naive')|(dfs['Approach']=='Oracle')]\n",
    "sns.catplot(x='Hidden layers', y=metric, data=dfs, kind='box', hue='Approach', aspect=2, height = 3, showfliers=False, legend=False)\n",
    "plt.legend()\n",
    "plt.tight_layout()\n",
    "plt.savefig(f'results/stories/eval_models_{dataset}_{metric}.png', dpi=300)\n",
    "#draw line for oracle mean\n"
   ]
  },
  {
   "attachments": {},
   "cell_type": "markdown",
   "metadata": {},
   "source": [
    "## Model Selection\n",
    "Essentially repeat the above for different models"
   ]
  },
  {
   "cell_type": "code",
   "execution_count": null,
   "metadata": {},
   "outputs": [],
   "source": [
    "from DGE_experiments import model_selection_experiment\n",
    "\n",
    "# load data\n",
    "#dataset = 'seer'\n",
    "dataset = 'adult'\n",
    "max_n = 5000\n",
    "nsyn = 5000\n",
    "X_gt, X_syns = get_real_and_synthetic(dataset=dataset,\n",
    "                                        n_models=n_models,\n",
    "                                        model_name=model_name,\n",
    "                                        load_syn=load_syn,\n",
    "                                        verbose=verbose,\n",
    "                                        max_n=max_n,\n",
    "                                        nsyn=nsyn)\n",
    "\n",
    "\n",
    "\n",
    "workspace_folder, results_folder = get_folder_names(\n",
    "    dataset, model_name, max_n=max_n, nsyn=nsyn)\n",
    "\n",
    "means_sorted, std = model_selection_experiment(X_gt, X_syns, relative=False,\n",
    "                                                    workspace_folder=workspace_folder, \n",
    "                                                    load=load, save=save)\n",
    "\n",
    "\n"
   ]
  },
  {
   "cell_type": "code",
   "execution_count": null,
   "metadata": {},
   "outputs": [],
   "source": [
    "A = add_std(means_sorted[metric].iloc[:5], std[metric])\n",
    "B = means_sorted[metric].iloc[5:]\n",
    "B.index = [f'{i}'.replace(' rank','') for i in B.index]\n",
    "B = B.astype(int)\n",
    "B.columns = ['' for i in B.columns]\n",
    "C = pd.concat([A, B], axis=1)\n",
    "print(C.to_latex())\n"
   ]
  },
  {
   "attachments": {},
   "cell_type": "markdown",
   "metadata": {},
   "source": [
    "### Run for different synthetic dataset size (Appendix)"
   ]
  },
  {
   "cell_type": "code",
   "execution_count": null,
   "metadata": {},
   "outputs": [],
   "source": [
    "from DGE_experiments import model_selection_experiment\n",
    "from DGE_data import get_real_and_synthetic\n",
    "from DGE_utils import get_folder_names\n",
    "import numpy as np\n",
    "import sklearn\n",
    "\n",
    "# load data\n",
    "#dataset = 'seer'\n",
    "dataset = 'adult'\n",
    "max_n = 5000\n",
    "p_train = 0.8\n",
    "n_models = 20\n",
    "model_name = 'ctgan_deep'\n",
    "load=True\n",
    "save = True\n",
    "load_syn = True\n",
    "verbose = False\n",
    "means = {}\n",
    "stds = {}\n",
    "model_types = ['mlp', 'deepish_mlp', 'deep_mlp', 'largest_mlp']\n",
    "\n",
    "for nsyn in [1000, 2000, 5000,10000,20000]:\n",
    "    X_gt, X_syns = get_real_and_synthetic(dataset=dataset,\n",
    "                                            p_train=p_train,\n",
    "                                            n_models=n_models,\n",
    "                                            model_name=model_name,\n",
    "                                            load_syn=load_syn,\n",
    "                                            verbose=verbose,\n",
    "                                            max_n=max_n,\n",
    "                                            nsyn=nsyn)\n",
    "\n",
    "\n",
    "\n",
    "    workspace_folder, results_folder = get_folder_names(\n",
    "        dataset, model_name, max_n=max_n, nsyn=nsyn)\n",
    "\n",
    "    means_sorted, std = model_selection_experiment(X_gt, X_syns, relative=False,\n",
    "                                                        workspace_folder=workspace_folder, \n",
    "                                                        load=load, save=save, model_types=model_types )\n",
    "\n",
    "    means[nsyn] = means_sorted\n",
    "    stds[nsyn] = std\n"
   ]
  },
  {
   "cell_type": "code",
   "execution_count": null,
   "metadata": {},
   "outputs": [],
   "source": [
    "x = means.keys()\n",
    "metric = 'AUC'\n",
    "from importlib import reload\n",
    "import matplotlib.pyplot as plt\n",
    "plt=reload(plt)\n",
    "for i in range(len(means_sorted[metric])):    \n",
    "    y = [means[j][metric].iloc[i] for j in x]\n",
    "    labels = means[5000][metric].columns\n",
    "    plt.semilogx(x, y, label=labels)\n",
    "    plt.xlabel('Synthetic dataset size')\n",
    "    name = means[5000][metric].index[i]\n",
    "    if 'rank' in name:\n",
    "        plt.ylabel('Ranking')\n",
    "    else:\n",
    "        plt.ylabel(metric)\n",
    "    plt.legend()\n",
    "    plt.savefig(f'results/stories/model_selection_mlps_nsyn_{name}_{metric}.png')\n",
    "    plt.show()"
   ]
  },
  {
   "attachments": {},
   "cell_type": "markdown",
   "metadata": {},
   "source": [
    "## Underrepresented group"
   ]
  },
  {
   "attachments": {},
   "cell_type": "markdown",
   "metadata": {},
   "source": [
    "### Model training"
   ]
  },
  {
   "cell_type": "code",
   "execution_count": null,
   "metadata": {},
   "outputs": [],
   "source": [
    "from DGE_data import get_real_and_synthetic\n",
    "dataset = 'covid'\n",
    "n_models = 20\n",
    "num_runs = 10\n",
    "max_n = 2000\n",
    "nsyn = 2000\n",
    "model_name = 'ctgan'\n",
    "load = True\n",
    "save = True\n",
    "load_syn = True\n",
    "verbose = False\n",
    "reduce_to = None # used to get a very large set of real samples for evaluation (to accurately performance on small subgroups)\n"
   ]
  },
  {
   "cell_type": "code",
   "execution_count": null,
   "metadata": {},
   "outputs": [],
   "source": [
    "X_gt, X_syns = get_real_and_synthetic(dataset=dataset,\n",
    "                                        n_models=n_models*num_runs,\n",
    "                                        model_name=model_name,\n",
    "                                        load_syn=load_syn,\n",
    "                                        verbose=verbose,\n",
    "                                        max_n=max_n,\n",
    "                                        nsyn=nsyn,\n",
    "                                        reduce_to=reduce_to)\n",
    "\n",
    "# Get some indication of the distribution of the data\n",
    "X_gt.train().data.hist()"
   ]
  },
  {
   "attachments": {},
   "cell_type": "markdown",
   "metadata": {},
   "source": [
    "Let us define the minority category for each feature"
   ]
  },
  {
   "cell_type": "code",
   "execution_count": null,
   "metadata": {},
   "outputs": [],
   "source": [
    "import pandas as pd\n",
    "from synthcity.plugins.core.dataloader import GenericDataLoader\n",
    "\n",
    "def find_minority(data, feature):\n",
    "    # Get the value that is the minority\n",
    "\n",
    "    # turn data into dataframe if GenericDataLoader\n",
    "    if type(data) != pd.DataFrame:\n",
    "        data = data.data\n",
    "    # find minority value\n",
    "    if data[feature].unique().shape[0] < 20:\n",
    "\n",
    "        counts = data[feature].value_counts()\n",
    "        percentages = counts/counts.sum()\n",
    "        counts = counts[percentages>0.005]\n",
    "        value = counts.index[-1]\n",
    "        percentage = percentages[value]\n",
    "        # Create function that selects the minority value\n",
    "        def subset(X):\n",
    "            Xout = X[X[feature]==value]\n",
    "            if type(Xout) == pd.DataFrame:\n",
    "                Xout = GenericDataLoader(Xout, target='target')\n",
    "                if hasattr(X, 'targettype'):\n",
    "                    Xout.targettype = X.targettype\n",
    "            return Xout\n",
    "    else:\n",
    "        quantile = 0.1\n",
    "        threshold = data[feature].quantile(1-quantile)\n",
    "        value = f'>={threshold:.2f}'\n",
    "        percentage = quantile\n",
    "        # Create function that selects the minority value\n",
    "        def subset(X):\n",
    "            Xout = X[X[feature]>=threshold]\n",
    "            if type(Xout) == pd.DataFrame:\n",
    "                Xout = GenericDataLoader(Xout, target='target')\n",
    "                if hasattr(X, 'targettype'):\n",
    "                    Xout.targettype = X.targettype\n",
    "            return Xout\n",
    "\n",
    "    return subset, value, percentage\n"
   ]
  },
  {
   "cell_type": "code",
   "execution_count": null,
   "metadata": {},
   "outputs": [],
   "source": [
    "from DGE_experiments import predictive_experiment\n",
    "from DGE_utils import get_folder_names\n",
    "from synthcity.plugins.core.dataloader import GenericDataLoader\n",
    "\n",
    "values = {}\n",
    "results = {}\n",
    "percentages = {}\n",
    "\n",
    "workspace_folder, results_folder = get_folder_names(\n",
    "        dataset, model_name, max_n=max_n, nsyn=nsyn)\n",
    "\n",
    "feature = 'ALL'\n",
    "features = X_gt.unpack(as_numpy=False)[0].columns\n",
    "\n",
    "_, _, res = predictive_experiment(X_gt,\n",
    "                                    X_syns,\n",
    "                                    workspace_folder=workspace_folder,\n",
    "                                    results_folder=results_folder,\n",
    "                                    save=save,\n",
    "                                    load=load,\n",
    "                                    plot=False,\n",
    "                                    outlier=False\n",
    "                                    )\n",
    "\n",
    "results[feature] = res\n",
    "\n",
    "\n",
    "for feature in features:\n",
    "    subset, value, percentage = find_minority(X_gt.train(), feature)\n",
    "    print(f'Feature {feature},\\n minority value {value},\\n minority percentage {percentage}')\n",
    "    if percentage > 0.2:\n",
    "        print('skipping due to not being minority')\n",
    "        continue\n",
    "    \n",
    "    \n",
    "    try:\n",
    "        _, _, res = predictive_experiment(X_gt,\n",
    "                                            X_syns,\n",
    "                                            workspace_folder=workspace_folder,\n",
    "                                            results_folder=results_folder,\n",
    "                                            save=save,\n",
    "                                            load=load,\n",
    "                                            plot=False,\n",
    "                                            outlier=subset\n",
    "                                            )\n",
    "    except ValueError:\n",
    "        print('Skipping due to too heavy imbalance making AUC non-computable')\n",
    "        continue\n",
    "\n",
    "    percentages[feature] = percentage\n",
    "    values[feature] = value\n",
    "    results[feature] = res\n",
    "\n"
   ]
  },
  {
   "attachments": {},
   "cell_type": "markdown",
   "metadata": {},
   "source": [
    "add the category name to each subset (just for plotting)"
   ]
  },
  {
   "cell_type": "code",
   "execution_count": null,
   "metadata": {},
   "outputs": [],
   "source": [
    "results_copy = results.copy() # to got back if necessary\n",
    "\n",
    "sorted_percentages = sorted(percentages.items(), key=lambda item: item[1])\n",
    "sorted_percentages = dict(sorted_percentages)\n",
    "#results_ = {f'{key}:{value} ({round(100*sorted_percentages[key],1)}%)': results[key] for key in list(sorted_percentages.keys())[::-1]}\n",
    "results_ = {f'{key}:{values[key]}': results[key] for key in list(sorted_percentages.keys())[::-1]}\n",
    "results_ = dict({'Overall':results['ALL']}, **results_)\n",
    "results = results_"
   ]
  },
  {
   "attachments": {},
   "cell_type": "markdown",
   "metadata": {},
   "source": [
    "Plot"
   ]
  },
  {
   "cell_type": "code",
   "execution_count": null,
   "metadata": {},
   "outputs": [],
   "source": [
    "import seaborn as sns\n",
    "import matplotlib.pyplot as plt\n",
    "\n",
    "normalize = True\n",
    "if normalize:\n",
    "    results_ = {}\n",
    "    for key, res in results.items():\n",
    "        results_key = []\n",
    "        for group in res.groupby('Approach'):\n",
    "            res_ = group[1].drop(columns='Approach')-res[res['Approach']=='Oracle'].drop(columns='Approach')\n",
    "            res_['Approach'] = group[0]\n",
    "            results_key.append(res_)\n",
    "        results_key = pd.concat(results_key, axis=0)\n",
    "        results_[key] = results_key\n",
    "else:\n",
    "    results_ = results.copy()\n",
    "\n",
    "metric = 'AUC'\n",
    "baseline = 'E'\n",
    "\n",
    "df = pd.concat(results_)\n",
    "df['Subset'] = df.index.get_level_values(0)\n",
    "\n",
    "if normalize:\n",
    "    df = df[(df['Approach']=='DGE$_{20}$')|(df['Approach']==f'Naive ({baseline})')] #|(df['Approach']=='DGE$_{20}$ (concat)')\n",
    "else:\n",
    "    df = df[(df['Approach']=='DGE$_{20}$')|(df['Approach']==f'Naive ({baseline})')|(df['Approach']=='Oracle')] #|(df['Approach']=='DGE$_{20}$ (concat)')\n",
    "# draw a horizontal line at y=0\n",
    "g = sns.catplot(data=df, hue='Approach', y=metric, x='Subset', kind='box', aspect=3, showfliers=False, legend=False)\n",
    "g.set_xticklabels(rotation=20)\n",
    "if normalize:\n",
    "    plt.axhline(y=0, color='k', linestyle='--')\n",
    "    g.set_ylabels(metric+r' on subset relative to $\\mathcal{D}_R$-model')\n",
    "plt.tight_layout()\n",
    "plt.legend()\n",
    "plt.savefig(f'results/stories/underrepresented_training_nsyn{nsyn}_nmax{max_n}_{metric}_{baseline}.png', dpi=300)\n"
   ]
  },
  {
   "attachments": {},
   "cell_type": "markdown",
   "metadata": {},
   "source": [
    "## Influence of synthetic data size (uncertainty plots and confidence curves)"
   ]
  },
  {
   "attachments": {},
   "cell_type": "markdown",
   "metadata": {},
   "source": [
    "Let's study the effect of synthetic data size. Resulting plots are saved in /results/"
   ]
  },
  {
   "cell_type": "code",
   "execution_count": null,
   "metadata": {},
   "outputs": [],
   "source": [
    "from DGE_experiments import predictive_experiment\n",
    "import pandas as pd\n",
    "\n",
    "\n",
    "all_means = {}\n",
    "all_stds = {}\n",
    "model_name = 'ctgan'\n",
    "n_models = 20\n",
    "max_n = 2000\n",
    "model_type = 'mlp'\n",
    "#['adult', 'seer', 'covid', 'gaussian', 'circles', 'moons']\n",
    "for dataset in ['adult', 'covid', 'gaussian', 'circles', 'moons']:\n",
    "    for nsyn in [2000, 5000, 10000, 20000]:\n",
    "        workspace_folder, results_folder = get_folder_names(\n",
    "            dataset, model_name, max_n=max_n, nsyn=nsyn)\n",
    "\n",
    "        X_gt, X_syns = get_real_and_synthetic(dataset=dataset,\n",
    "                                            p_train=p_train,\n",
    "                                            n_models=n_models,\n",
    "                                            model_name=model_name,\n",
    "                                            load_syn=load_syn,\n",
    "                                            verbose=verbose,\n",
    "                                            max_n=max_n,\n",
    "                                            nsyn=nsyn)\n",
    "\n",
    "\n",
    "        print(f'Dataset {dataset}\\n')\n",
    "\n",
    "        means, stds, _ = predictive_experiment(X_gt,\n",
    "                                                X_syns,\n",
    "                                                workspace_folder=workspace_folder,\n",
    "                                                results_folder=results_folder,\n",
    "                                                task_type = model_type,\n",
    "                                                save=save,\n",
    "                                                load=load,\n",
    "                                                plot=True,\n",
    "                                                )\n",
    "\n"
   ]
  },
  {
   "attachments": {},
   "cell_type": "markdown",
   "metadata": {},
   "source": [
    "# Cross validation"
   ]
  },
  {
   "cell_type": "code",
   "execution_count": null,
   "metadata": {},
   "outputs": [],
   "source": [
    "from sklearn.datasets import load_diabetes\n",
    "import pickle\n",
    "import pandas as pd\n",
    "import numpy as np\n",
    "import sklearn\n",
    "import matplotlib.pyplot as plt\n",
    "from sklearn.datasets import load_iris\n",
    "import os\n",
    "import torch\n",
    "\n",
    "\n",
    "from synthcity.metrics.eval_performance import (\n",
    "    PerformanceEvaluatorMLP,\n",
    "    PerformanceEvaluatorXGB,\n",
    ")\n",
    "from synthcity.utils import reproducibility\n",
    "from synthcity.plugins import Plugins\n",
    "import synthcity.logger as log\n",
    "from synthcity.plugins.core.dataloader import GenericDataLoader\n",
    "from DGE_utils import metric_different_datasets, mean_across_pandas, add_std, get_folder_names\n",
    "\n",
    "reproducibility.clear_cache()\n",
    "device = torch.device(\"cuda\" if torch.cuda.is_available() else \"cpu\")\n",
    "\n",
    "\n",
    "assert device.type == 'cuda'\n"
   ]
  },
  {
   "cell_type": "code",
   "execution_count": null,
   "metadata": {},
   "outputs": [],
   "source": [
    "from DGE_data import get_real_and_synthetic\n",
    "from DGE_utils import get_folder_names, tt_predict_performance, cat_dl\n",
    "from DGE_data import get_real_and_synthetic\n",
    "from DGE_experiments import cross_val\n",
    "import pandas as pd\n",
    "from sklearn.model_selection import KFold\n",
    "import seaborn as sns\n",
    "import matplotlib.pyplot as plt\n",
    "\n",
    "# let's restrict ourselves to classification datasets\n",
    "#datasets = ['moons', 'circles', 'breast_cancer',\n",
    "#            'adult',  'seer', 'covid']\n",
    "datasets = ['moons', 'circles', 'breast_cancer',\n",
    "            'adult', 'covid']\n",
    "# ['moons', 'circles','cal_housing', 'adult', 'diabetes', 'breast_cancer',  'seer', 'cutract' ]\n",
    "model_name = 'ctgan'  # synthetic data model\n",
    "\n",
    "p_train = 0.8  # proportion of training data for generative model. Default values if None\n",
    "n_models = 20  # number of models in ensemble, for each run\n",
    "max_n = 2000  # maximum number of data points to use for training generative model.\n",
    "nsyn = 2000  # number of synthetic data points per synthetic dataset. Defaults to same as generative training size if None\n",
    "\n",
    "num_runs = 5  # Number of runs. Don't choose to large, since total number of synthetic datasets is num_runs*n_models\n",
    "\n",
    "load = True  # results\n",
    "load_syn = True  # data\n",
    "save = True  # save results and data\n",
    "\n",
    "verbose = False\n",
    "\n",
    "\n"
   ]
  },
  {
   "cell_type": "code",
   "execution_count": null,
   "metadata": {},
   "outputs": [],
   "source": [
    "num_runs = 5\n",
    "model_type = 'deepish_mlp'\n",
    "model_name = 'ctgan'\n",
    "nsyn = 5000\n",
    "max_n = 2000\n",
    "p_train = 0.8\n",
    "n_models = 20\n",
    "cross_fold = 5\n",
    "load_syn = True\n",
    "load = True\n",
    "save = True\n",
    "verbose = True\n",
    "\n",
    "scores_s_all = {}\n",
    "scores_r_all = {}\n",
    "\n",
    "#datasets = ['moons', 'circles', 'adult', 'seer', 'covid']\n",
    "datasets = ['moons', 'circles', 'adult', 'covid']\n",
    "\n",
    "for dataset in ['adult']:\n",
    "    workspace_folder, results_folder = get_folder_names(\n",
    "        dataset, model_name, max_n=max_n, nsyn=nsyn)\n",
    "\n",
    "    X_gt, X_syns = get_real_and_synthetic(dataset=dataset,\n",
    "                                          p_train=p_train,\n",
    "                                          n_models=n_models*num_runs,\n",
    "                                          model_name=model_name,\n",
    "                                          load_syn=load_syn,\n",
    "                                          verbose=verbose,\n",
    "                                          max_n=max_n,\n",
    "                                          nsyn=nsyn)\n",
    "\n",
    "    print(f'Dataset {dataset}\\n')\n",
    "\n",
    "    scores_s, scores_r = cross_val(X_gt,\n",
    "                                  X_syns,\n",
    "                                  workspace_folder=workspace_folder,\n",
    "                                  results_folder=results_folder,\n",
    "                                  save=save,\n",
    "                                  load=load,\n",
    "                                  task_type=model_type,\n",
    "                                  cross_fold=cross_fold,\n",
    "                                  verbose=verbose\n",
    "                                  )\n",
    "\n",
    "    scores_s_all[dataset] = scores_s\n",
    "    scores_r_all[dataset] = scores_r\n"
   ]
  },
  {
   "cell_type": "code",
   "execution_count": null,
   "metadata": {},
   "outputs": [],
   "source": [
    "metric = 'AUC'\n",
    "\n",
    "for dataset in datasets[-3:]:\n",
    "    print(dataset)\n",
    "    scores_r_all[dataset]['Test set'] = 'Real'\n",
    "    scores_s_all[dataset]['Test set'] = 'Synthetic'\n",
    "    scores_ = pd.concat([scores_r_all[dataset], scores_s_all[dataset]],axis=0)\n",
    "    scores_.reset_index(inplace=True)\n",
    "    scores_.rename(columns={'index':'Approach'}, inplace=True)\n",
    "    scores_ = scores_.mask(scores_ == 'DGE$_{20]$','DGE$_{20}$')\n",
    "    scores_ = scores_.mask(scores_ == 'DGE$_{20}$ (concat)','Naive (C)')\n",
    "    \n",
    "    sns.catplot(data=scores_, x='approach', y=metric, hue='Test set', kind='box', showfliers=False)\n",
    "    os.makedirs(f'./results/cross_val/', exist_ok=True)\n",
    "    plt.savefig(f'./results/cross_val/{dataset}_{metric}_{model_name}_nsyn_{nsyn}_maxn{max_n}_{model_type}.png')\n",
    "    plt.show()\n"
   ]
  }
 ],
 "metadata": {
  "kernelspec": {
   "display_name": "Python 3 (ipykernel)",
   "language": "python",
   "name": "python3"
  },
  "language_info": {
   "codemirror_mode": {
    "name": "ipython",
    "version": 3
   },
   "file_extension": ".py",
   "mimetype": "text/x-python",
   "name": "python",
   "nbconvert_exporter": "python",
   "pygments_lexer": "ipython3",
   "version": "3.8.18"
  },
  "vscode": {
   "interpreter": {
    "hash": "7aab09e613a68d507601146f34912616c121f43e65186c7109754633afa753d4"
   }
  }
 },
 "nbformat": 4,
 "nbformat_minor": 4
}
